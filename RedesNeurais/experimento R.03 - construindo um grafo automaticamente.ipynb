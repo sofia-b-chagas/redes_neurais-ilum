{
 "cells": [
  {
   "cell_type": "markdown",
   "metadata": {},
   "source": [
    "Construindo um grafo automaticamente\n",
    "====================================\n",
    "\n"
   ]
  },
  {
   "cell_type": "markdown",
   "metadata": {},
   "source": [
    "## Introdução\n",
    "\n"
   ]
  },
  {
   "cell_type": "markdown",
   "metadata": {},
   "source": [
    "Neste notebook nós vamos dar o primeiro passo para construir nossa rede neural artificial. Neste primeiro passo, nós vamos criar uma classe que gera automaticamente o nosso `grafo computacional`. O grafo computacional é o grafo que representa todas as operações matemáticas que ocorreram ao se computar um certo valor $y$. O grafo computacional é um passo necessário pois será baseado nele que iremos computar os gradientes locais necessários para realizar o `backpropagation`.\n",
    "\n"
   ]
  },
  {
   "cell_type": "code",
   "execution_count": null,
   "metadata": {},
   "outputs": [],
   "source": [
    "try:\n",
    "    import graphviz\n",
    "except ModuleNotFoundError:\n",
    "    import sys\n",
    "    !{sys.executable} -m pip install graphviz"
   ]
  },
  {
   "cell_type": "markdown",
   "metadata": {},
   "source": [
    "## Importações\n",
    "\n"
   ]
  },
  {
   "cell_type": "code",
   "execution_count": 1,
   "metadata": {},
   "outputs": [],
   "source": [
    "from funcoes import plota_grafo"
   ]
  },
  {
   "cell_type": "markdown",
   "metadata": {},
   "source": [
    "## Código e discussão\n",
    "\n"
   ]
  },
  {
   "cell_type": "markdown",
   "metadata": {},
   "source": [
    "### Primeiros passos\n",
    "\n"
   ]
  },
  {
   "cell_type": "markdown",
   "metadata": {},
   "source": [
    "A base de tudo será uma classe chamada `Valor`. Vamos começar pelo básico!\n",
    "\n"
   ]
  },
  {
   "cell_type": "code",
   "execution_count": 2,
   "metadata": {},
   "outputs": [],
   "source": [
    "class Valor:\n",
    "    def __init__(self, data):\n",
    "        self.data = data\n",
    "\n",
    "    def __repr__(self):\n",
    "        return f\"Valor(data={self.data})\""
   ]
  },
  {
   "cell_type": "markdown",
   "metadata": {},
   "source": [
    "Vamos testar nossa classe!\n",
    "\n"
   ]
  },
  {
   "cell_type": "code",
   "execution_count": 3,
   "metadata": {},
   "outputs": [
    {
     "name": "stdout",
     "output_type": "stream",
     "text": [
      "Valor(data=60)\n",
      "60\n"
     ]
    }
   ],
   "source": [
    "x1 = Valor(60)\n",
    "print(x1)\n",
    "print(x1.data)"
   ]
  },
  {
   "cell_type": "markdown",
   "metadata": {},
   "source": [
    "### Os dunders `__add__` e `__mul__`\n",
    "\n"
   ]
  },
  {
   "cell_type": "markdown",
   "metadata": {},
   "source": [
    "Observe que não conseguimos adicionar nem multiplicar objetos criados com a classe `Valor`.\n",
    "\n"
   ]
  },
  {
   "cell_type": "code",
   "execution_count": 4,
   "metadata": {},
   "outputs": [],
   "source": [
    "a = Valor(10)\n",
    "b = Valor(5)"
   ]
  },
  {
   "cell_type": "code",
   "execution_count": 5,
   "metadata": {},
   "outputs": [
    {
     "ename": "TypeError",
     "evalue": "unsupported operand type(s) for +: 'Valor' and 'Valor'",
     "output_type": "error",
     "traceback": [
      "\u001b[0;31m---------------------------------------------------------------------------\u001b[0m",
      "\u001b[0;31mTypeError\u001b[0m                                 Traceback (most recent call last)",
      "Cell \u001b[0;32mIn[5], line 1\u001b[0m\n\u001b[0;32m----> 1\u001b[0m \u001b[38;5;28mprint\u001b[39m(\u001b[43ma\u001b[49m\u001b[43m \u001b[49m\u001b[38;5;241;43m+\u001b[39;49m\u001b[43m \u001b[49m\u001b[43mb\u001b[49m)\n",
      "\u001b[0;31mTypeError\u001b[0m: unsupported operand type(s) for +: 'Valor' and 'Valor'"
     ]
    }
   ],
   "source": [
    "print(a + b)"
   ]
  },
  {
   "cell_type": "code",
   "execution_count": 6,
   "metadata": {},
   "outputs": [
    {
     "ename": "TypeError",
     "evalue": "unsupported operand type(s) for *: 'Valor' and 'Valor'",
     "output_type": "error",
     "traceback": [
      "\u001b[0;31m---------------------------------------------------------------------------\u001b[0m",
      "\u001b[0;31mTypeError\u001b[0m                                 Traceback (most recent call last)",
      "Cell \u001b[0;32mIn[6], line 1\u001b[0m\n\u001b[0;32m----> 1\u001b[0m \u001b[38;5;28mprint\u001b[39m(\u001b[43ma\u001b[49m\u001b[43m \u001b[49m\u001b[38;5;241;43m*\u001b[39;49m\u001b[43m \u001b[49m\u001b[43mb\u001b[49m)\n",
      "\u001b[0;31mTypeError\u001b[0m: unsupported operand type(s) for *: 'Valor' and 'Valor'"
     ]
    }
   ],
   "source": [
    "print(a * b)"
   ]
  },
  {
   "cell_type": "markdown",
   "metadata": {},
   "source": [
    "Ué&#x2026; porque não conseguimos? Não conseguimos pois o Python (ainda) não é vidente. Ele lá vai saber como adicionar ou multiplicar algo que você criou? Pra você parece óbvio que valores podem ser adicionados ou multiplicados, mas para o Python ele nem sabe o que significa a palavra `Valor`&#x2026;\n",
    "\n",
    "Como sempre, temos que contar para o programa o que queremos que aconteça quando usarmos os operadores `+` e `*`. Quem faz isso são os dunders `__add__` e `__mul__`.\n",
    "\n"
   ]
  },
  {
   "cell_type": "code",
   "execution_count": 7,
   "metadata": {},
   "outputs": [],
   "source": [
    "class Valor:\n",
    "    def __init__(self, data):\n",
    "        self.data = data\n",
    "\n",
    "    def __repr__(self):\n",
    "        return f\"Valor(data={self.data})\"\n",
    "\n",
    "    def __add__(self, outro_valor):\n",
    "        saida = Valor(self.data + outro_valor.data)\n",
    "        return saida\n",
    "\n",
    "    def __mul__(self, outro_valor):\n",
    "        saida = Valor(self.data * outro_valor.data)\n",
    "        return saida"
   ]
  },
  {
   "cell_type": "markdown",
   "metadata": {},
   "source": [
    "Vamos testar!\n",
    "\n"
   ]
  },
  {
   "cell_type": "code",
   "execution_count": 8,
   "metadata": {},
   "outputs": [
    {
     "name": "stdout",
     "output_type": "stream",
     "text": [
      "Valor(data=15)\n",
      "Valor(data=50)\n"
     ]
    }
   ],
   "source": [
    "a = Valor(10)\n",
    "b = Valor(5)\n",
    "\n",
    "print(a + b)\n",
    "print(a * b)"
   ]
  },
  {
   "cell_type": "markdown",
   "metadata": {},
   "source": [
    "### Registrando os progenitores\n",
    "\n"
   ]
  },
  {
   "cell_type": "markdown",
   "metadata": {},
   "source": [
    "Nosso objetivo é construir um grafo computacional. Em um grafo computacional, um certo vértice pode ter um ou mais vértices progenitores (são seus pais/mães). Nós não podemos perder essa informação quando formos construir um grafo, então precisamos incluir essa informação na nossa classe.\n",
    "\n"
   ]
  },
  {
   "cell_type": "code",
   "execution_count": 9,
   "metadata": {},
   "outputs": [],
   "source": [
    "class Valor:\n",
    "    def __init__(self, data, progenitor=()):\n",
    "        self.data = data\n",
    "        self.progenitor = progenitor\n",
    "\n",
    "    def __repr__(self):\n",
    "        return f\"Valor(data={self.data})\"\n",
    "\n",
    "    def __add__(self, outro_valor):\n",
    "        data = self.data + outro_valor.data\n",
    "        progenitor = (self, outro_valor)\n",
    "        saida = Valor(data, progenitor)\n",
    "        return saida\n",
    "\n",
    "    def __mul__(self, outro_valor):\n",
    "        data = self.data * outro_valor.data\n",
    "        progenitor = (self, outro_valor)\n",
    "        saida = Valor(data, progenitor)\n",
    "        return saida"
   ]
  },
  {
   "cell_type": "markdown",
   "metadata": {},
   "source": [
    "Vamos testar!\n",
    "\n"
   ]
  },
  {
   "cell_type": "code",
   "execution_count": 14,
   "metadata": {},
   "outputs": [
    {
     "name": "stdout",
     "output_type": "stream",
     "text": [
      "10\n",
      "()\n",
      "Valor(data=15)\n",
      "Valor(data=10)\n",
      "(Valor(data=15), Valor(data=10))\n"
     ]
    }
   ],
   "source": [
    "a = Valor(10)\n",
    "b = Valor(5)\n",
    "\n",
    "print(a.data)\n",
    "print(a.progenitor)\n",
    "\n",
    "c = a + b\n",
    "d = c * a\n",
    "\n",
    "print(c)\n",
    "print(a)\n",
    "print(d.progenitor)"
   ]
  },
  {
   "cell_type": "markdown",
   "metadata": {},
   "source": [
    "### Registrando o operador mãe\n",
    "\n"
   ]
  },
  {
   "cell_type": "markdown",
   "metadata": {},
   "source": [
    "Em um grafo computacional, um vértice pode ter um operador mãe. O operador mãe é o operador que foi usado para gerar o vértice.\n",
    "\n"
   ]
  },
  {
   "cell_type": "code",
   "execution_count": 15,
   "metadata": {},
   "outputs": [],
   "source": [
    "class Valor:\n",
    "    def __init__(self, data, progenitor=(), operador_mae=\"\"):\n",
    "        self.data = data\n",
    "        self.progenitor = progenitor\n",
    "        self.operador_mae = operador_mae\n",
    "\n",
    "    def __repr__(self):\n",
    "        return f\"Valor(data={self.data})\"\n",
    "\n",
    "    def __add__(self, outro_valor):\n",
    "        data = self.data + outro_valor.data\n",
    "        progenitor = (self, outro_valor)\n",
    "        operador_mae = \"+\"\n",
    "        saida = Valor(data, progenitor, operador_mae)\n",
    "        return saida\n",
    "\n",
    "    def __mul__(self, outro_valor):\n",
    "        data = self.data * outro_valor.data\n",
    "        progenitor = (self, outro_valor)\n",
    "        operador_mae = \"*\"\n",
    "        saida = Valor(data, progenitor, operador_mae)\n",
    "        return saida"
   ]
  },
  {
   "cell_type": "markdown",
   "metadata": {},
   "source": [
    "Vamos testar!\n",
    "\n"
   ]
  },
  {
   "cell_type": "code",
   "execution_count": 17,
   "metadata": {},
   "outputs": [
    {
     "name": "stdout",
     "output_type": "stream",
     "text": [
      "Valor(data=15)\n",
      "(Valor(data=10), Valor(data=5))\n",
      "+\n",
      "\n"
     ]
    }
   ],
   "source": [
    "a = Valor(10)\n",
    "b = Valor(5)\n",
    "\n",
    "c = a + b\n",
    "d = c * a\n",
    "\n",
    "print(c)\n",
    "print(c.progenitor)\n",
    "print(c.operador_mae)"
   ]
  },
  {
   "cell_type": "markdown",
   "metadata": {},
   "source": [
    "### Plotando o primeiro grafo\n",
    "\n"
   ]
  },
  {
   "cell_type": "markdown",
   "metadata": {},
   "source": [
    "Vamos plotar nosso primeiro grafo!\n",
    "\n"
   ]
  },
  {
   "cell_type": "code",
   "execution_count": 18,
   "metadata": {},
   "outputs": [
    {
     "data": {
      "image/svg+xml": [
       "<?xml version=\"1.0\" encoding=\"UTF-8\" standalone=\"no\"?>\n",
       "<!DOCTYPE svg PUBLIC \"-//W3C//DTD SVG 1.1//EN\"\n",
       " \"http://www.w3.org/Graphics/SVG/1.1/DTD/svg11.dtd\">\n",
       "<!-- Generated by graphviz version 2.43.0 (0)\n",
       " -->\n",
       "<!-- Title: %3 Pages: 1 -->\n",
       "<svg width=\"580pt\" height=\"127pt\"\n",
       " viewBox=\"0.00 0.00 580.00 127.00\" xmlns=\"http://www.w3.org/2000/svg\" xmlns:xlink=\"http://www.w3.org/1999/xlink\">\n",
       "<g id=\"graph0\" class=\"graph\" transform=\"scale(1 1) rotate(0) translate(4 123)\">\n",
       "<title>%3</title>\n",
       "<polygon fill=\"white\" stroke=\"transparent\" points=\"-4,4 -4,-123 576,-123 576,4 -4,4\"/>\n",
       "<!-- 140129218967056 -->\n",
       "<g id=\"node1\" class=\"node\">\n",
       "<title>140129218967056</title>\n",
       "<polygon fill=\"none\" stroke=\"black\" points=\"470,-54.5 470,-90.5 572,-90.5 572,-54.5 470,-54.5\"/>\n",
       "<text text-anchor=\"middle\" x=\"521\" y=\"-68.8\" font-family=\"Times,serif\" font-size=\"14.00\">data 4.0000</text>\n",
       "</g>\n",
       "<!-- 140129218967056+ -->\n",
       "<g id=\"node2\" class=\"node\">\n",
       "<title>140129218967056+</title>\n",
       "<ellipse fill=\"none\" stroke=\"black\" cx=\"407\" cy=\"-72.5\" rx=\"27\" ry=\"18\"/>\n",
       "<text text-anchor=\"middle\" x=\"407\" y=\"-68.8\" font-family=\"Times,serif\" font-size=\"14.00\">+</text>\n",
       "</g>\n",
       "<!-- 140129218967056+&#45;&gt;140129218967056 -->\n",
       "<g id=\"edge1\" class=\"edge\">\n",
       "<title>140129218967056+&#45;&gt;140129218967056</title>\n",
       "<path fill=\"none\" stroke=\"black\" d=\"M434.26,-72.5C441.96,-72.5 450.73,-72.5 459.64,-72.5\"/>\n",
       "<polygon fill=\"black\" stroke=\"black\" points=\"459.71,-76 469.71,-72.5 459.71,-69 459.71,-76\"/>\n",
       "</g>\n",
       "<!-- 140129218963024 -->\n",
       "<g id=\"node3\" class=\"node\">\n",
       "<title>140129218963024</title>\n",
       "<polygon fill=\"none\" stroke=\"black\" points=\"0,-55.5 0,-91.5 107,-91.5 107,-55.5 0,-55.5\"/>\n",
       "<text text-anchor=\"middle\" x=\"53.5\" y=\"-69.8\" font-family=\"Times,serif\" font-size=\"14.00\">data &#45;3.0000</text>\n",
       "</g>\n",
       "<!-- 140129218965904* -->\n",
       "<g id=\"node6\" class=\"node\">\n",
       "<title>140129218965904*</title>\n",
       "<ellipse fill=\"none\" stroke=\"black\" cx=\"170\" cy=\"-45.5\" rx=\"27\" ry=\"18\"/>\n",
       "<text text-anchor=\"middle\" x=\"170\" y=\"-41.8\" font-family=\"Times,serif\" font-size=\"14.00\">*</text>\n",
       "</g>\n",
       "<!-- 140129218963024&#45;&gt;140129218965904* -->\n",
       "<g id=\"edge5\" class=\"edge\">\n",
       "<title>140129218963024&#45;&gt;140129218965904*</title>\n",
       "<path fill=\"none\" stroke=\"black\" d=\"M107.06,-60.65C116.44,-58.35 125.99,-56.02 134.69,-53.89\"/>\n",
       "<polygon fill=\"black\" stroke=\"black\" points=\"135.57,-57.28 144.46,-51.5 133.91,-50.48 135.57,-57.28\"/>\n",
       "</g>\n",
       "<!-- 140129218968400 -->\n",
       "<g id=\"node4\" class=\"node\">\n",
       "<title>140129218968400</title>\n",
       "<polygon fill=\"none\" stroke=\"black\" points=\"233,-82.5 233,-118.5 344,-118.5 344,-82.5 233,-82.5\"/>\n",
       "<text text-anchor=\"middle\" x=\"288.5\" y=\"-96.8\" font-family=\"Times,serif\" font-size=\"14.00\">data 10.0000</text>\n",
       "</g>\n",
       "<!-- 140129218968400&#45;&gt;140129218967056+ -->\n",
       "<g id=\"edge3\" class=\"edge\">\n",
       "<title>140129218968400&#45;&gt;140129218967056+</title>\n",
       "<path fill=\"none\" stroke=\"black\" d=\"M344.34,-87.32C353.57,-85.1 362.91,-82.86 371.44,-80.81\"/>\n",
       "<polygon fill=\"black\" stroke=\"black\" points=\"372.47,-84.16 381.38,-78.42 370.84,-77.35 372.47,-84.16\"/>\n",
       "</g>\n",
       "<!-- 140129218965904 -->\n",
       "<g id=\"node5\" class=\"node\">\n",
       "<title>140129218965904</title>\n",
       "<polygon fill=\"none\" stroke=\"black\" points=\"235,-27.5 235,-63.5 342,-63.5 342,-27.5 235,-27.5\"/>\n",
       "<text text-anchor=\"middle\" x=\"288.5\" y=\"-41.8\" font-family=\"Times,serif\" font-size=\"14.00\">data &#45;6.0000</text>\n",
       "</g>\n",
       "<!-- 140129218965904&#45;&gt;140129218967056+ -->\n",
       "<g id=\"edge6\" class=\"edge\">\n",
       "<title>140129218965904&#45;&gt;140129218967056+</title>\n",
       "<path fill=\"none\" stroke=\"black\" d=\"M342.3,-57.74C352.18,-60.03 362.28,-62.37 371.43,-64.49\"/>\n",
       "<polygon fill=\"black\" stroke=\"black\" points=\"370.78,-67.93 381.31,-66.78 372.36,-61.11 370.78,-67.93\"/>\n",
       "</g>\n",
       "<!-- 140129218965904*&#45;&gt;140129218965904 -->\n",
       "<g id=\"edge2\" class=\"edge\">\n",
       "<title>140129218965904*&#45;&gt;140129218965904</title>\n",
       "<path fill=\"none\" stroke=\"black\" d=\"M197.14,-45.5C205.41,-45.5 214.93,-45.5 224.62,-45.5\"/>\n",
       "<polygon fill=\"black\" stroke=\"black\" points=\"224.74,-49 234.74,-45.5 224.74,-42 224.74,-49\"/>\n",
       "</g>\n",
       "<!-- 140129218967008 -->\n",
       "<g id=\"node7\" class=\"node\">\n",
       "<title>140129218967008</title>\n",
       "<polygon fill=\"none\" stroke=\"black\" points=\"2.5,-0.5 2.5,-36.5 104.5,-36.5 104.5,-0.5 2.5,-0.5\"/>\n",
       "<text text-anchor=\"middle\" x=\"53.5\" y=\"-14.8\" font-family=\"Times,serif\" font-size=\"14.00\">data 2.0000</text>\n",
       "</g>\n",
       "<!-- 140129218967008&#45;&gt;140129218965904* -->\n",
       "<g id=\"edge4\" class=\"edge\">\n",
       "<title>140129218967008&#45;&gt;140129218965904*</title>\n",
       "<path fill=\"none\" stroke=\"black\" d=\"M104.72,-30.34C114.78,-32.72 125.14,-35.16 134.52,-37.37\"/>\n",
       "<polygon fill=\"black\" stroke=\"black\" points=\"133.72,-40.78 144.25,-39.66 135.32,-33.96 133.72,-40.78\"/>\n",
       "</g>\n",
       "</g>\n",
       "</svg>\n"
      ],
      "text/plain": [
       "<graphviz.graphs.Digraph at 0x7f726065d720>"
      ]
     },
     "execution_count": 18,
     "metadata": {},
     "output_type": "execute_result"
    }
   ],
   "source": [
    "a = Valor(2)\n",
    "b = Valor(-3)\n",
    "c = Valor(10)\n",
    "\n",
    "d = a * b\n",
    "e = d + c\n",
    "\n",
    "plota_grafo(e)"
   ]
  },
  {
   "cell_type": "markdown",
   "metadata": {},
   "source": [
    "### Registrando o rótulo\n",
    "\n"
   ]
  },
  {
   "cell_type": "markdown",
   "metadata": {},
   "source": [
    "Nosso grafo seria mais legível se tivéssemos rótulos indicando o que é cada vértice. Vamos incluir essa informação na nossa classe.\n",
    "\n"
   ]
  },
  {
   "cell_type": "code",
   "execution_count": 20,
   "metadata": {},
   "outputs": [],
   "source": [
    "class Valor:\n",
    "    def __init__(self, data, progenitor=(), operador_mae=\"\", rotulo=\"\"):\n",
    "        self.data = data\n",
    "        self.progenitor = progenitor\n",
    "        self.operador_mae = operador_mae\n",
    "        self.rotulo = rotulo\n",
    "\n",
    "    def __repr__(self):\n",
    "        return f\"Valor(data={self.data})\"\n",
    "\n",
    "    def __add__(self, outro_valor):\n",
    "        data = self.data + outro_valor.data\n",
    "        progenitor = (self, outro_valor)\n",
    "        operador_mae = \"+\"\n",
    "        saida = Valor(data, progenitor, operador_mae)\n",
    "        return saida\n",
    "\n",
    "    def __mul__(self, outro_valor):\n",
    "        data = self.data * outro_valor.data\n",
    "        progenitor = (self, outro_valor)\n",
    "        operador_mae = \"*\"\n",
    "        saida = Valor(data, progenitor, operador_mae)\n",
    "        return saida"
   ]
  },
  {
   "cell_type": "markdown",
   "metadata": {},
   "source": [
    "Vamos testar!\n",
    "\n"
   ]
  },
  {
   "cell_type": "code",
   "execution_count": 22,
   "metadata": {},
   "outputs": [
    {
     "name": "stdout",
     "output_type": "stream",
     "text": [
      "digraph {\n",
      "\tgraph [rankdir=LR]\n",
      "\t140129221123120 [label=\"{ b | data -3.0000 }\" shape=record]\n",
      "\t140129221123648 [label=\"{ a | data 2.0000 }\" shape=record]\n",
      "\t140129221122160 [label=\"{ e | data 4.0000 }\" shape=record]\n",
      "\t\"140129221122160+\" [label=\"+\"]\n",
      "\t\"140129221122160+\" -> 140129221122160\n",
      "\t140129221123312 [label=\"{ d | data -6.0000 }\" shape=record]\n",
      "\t\"140129221123312*\" [label=\"*\"]\n",
      "\t\"140129221123312*\" -> 140129221123312\n",
      "\t140129221126480 [label=\"{ c | data 10.0000 }\" shape=record]\n",
      "\t140129221123648 -> \"140129221123312*\"\n",
      "\t140129221126480 -> \"140129221122160+\"\n",
      "\t140129221123312 -> \"140129221122160+\"\n",
      "\t140129221123120 -> \"140129221123312*\"\n",
      "}\n",
      "\n"
     ]
    }
   ],
   "source": [
    "a = Valor(2, rotulo=\"a\")\n",
    "b = Valor(-3, rotulo=\"b\")\n",
    "c = Valor(10, rotulo=\"c\")\n",
    "\n",
    "d = a * b\n",
    "e = d + c\n",
    "\n",
    "d.rotulo = \"d\"\n",
    "e.rotulo = \"e\"\n",
    "\n",
    "grafo = plota_grafo(e)\n",
    "print(grafo)"
   ]
  },
  {
   "cell_type": "markdown",
   "metadata": {},
   "source": [
    "### Refazendo o grafo que fizemos na aula anterior\n",
    "\n"
   ]
  },
  {
   "cell_type": "markdown",
   "metadata": {},
   "source": [
    "Na aula anterior nós fizemos um grafo computacional para aprender como funciona o backpropagation. Vamos refazer ele aqui!\n",
    "\n"
   ]
  },
  {
   "cell_type": "code",
   "execution_count": 23,
   "metadata": {},
   "outputs": [
    {
     "data": {
      "image/svg+xml": [
       "<?xml version=\"1.0\" encoding=\"UTF-8\" standalone=\"no\"?>\n",
       "<!DOCTYPE svg PUBLIC \"-//W3C//DTD SVG 1.1//EN\"\n",
       " \"http://www.w3.org/Graphics/SVG/1.1/DTD/svg11.dtd\">\n",
       "<!-- Generated by graphviz version 2.43.0 (0)\n",
       " -->\n",
       "<!-- Title: %3 Pages: 1 -->\n",
       "<svg width=\"1259pt\" height=\"210pt\"\n",
       " viewBox=\"0.00 0.00 1259.00 210.00\" xmlns=\"http://www.w3.org/2000/svg\" xmlns:xlink=\"http://www.w3.org/1999/xlink\">\n",
       "<g id=\"graph0\" class=\"graph\" transform=\"scale(1 1) rotate(0) translate(4 206)\">\n",
       "<title>%3</title>\n",
       "<polygon fill=\"white\" stroke=\"transparent\" points=\"-4,4 -4,-206 1255,-206 1255,4 -4,4\"/>\n",
       "<!-- 140129221309440 -->\n",
       "<g id=\"node1\" class=\"node\">\n",
       "<title>140129221309440</title>\n",
       "<polygon fill=\"none\" stroke=\"black\" points=\"826,-54.5 826,-90.5 971,-90.5 971,-54.5 826,-54.5\"/>\n",
       "<text text-anchor=\"middle\" x=\"838.5\" y=\"-68.8\" font-family=\"Times,serif\" font-size=\"14.00\">k</text>\n",
       "<polyline fill=\"none\" stroke=\"black\" points=\"851,-54.5 851,-90.5 \"/>\n",
       "<text text-anchor=\"middle\" x=\"911\" y=\"-68.8\" font-family=\"Times,serif\" font-size=\"14.00\">data 727.0000</text>\n",
       "</g>\n",
       "<!-- 140129218963024* -->\n",
       "<g id=\"node9\" class=\"node\">\n",
       "<title>140129218963024*</title>\n",
       "<ellipse fill=\"none\" stroke=\"black\" cx=\"1034\" cy=\"-99.5\" rx=\"27\" ry=\"18\"/>\n",
       "<text text-anchor=\"middle\" x=\"1034\" y=\"-95.8\" font-family=\"Times,serif\" font-size=\"14.00\">*</text>\n",
       "</g>\n",
       "<!-- 140129221309440&#45;&gt;140129218963024* -->\n",
       "<g id=\"edge7\" class=\"edge\">\n",
       "<title>140129221309440&#45;&gt;140129218963024*</title>\n",
       "<path fill=\"none\" stroke=\"black\" d=\"M971.33,-87.03C980.62,-88.91 989.77,-90.76 998.07,-92.44\"/>\n",
       "<polygon fill=\"black\" stroke=\"black\" points=\"997.57,-95.91 1008.07,-94.46 998.96,-89.04 997.57,-95.91\"/>\n",
       "</g>\n",
       "<!-- 140129221309440+ -->\n",
       "<g id=\"node2\" class=\"node\">\n",
       "<title>140129221309440+</title>\n",
       "<ellipse fill=\"none\" stroke=\"black\" cx=\"763\" cy=\"-72.5\" rx=\"27\" ry=\"18\"/>\n",
       "<text text-anchor=\"middle\" x=\"763\" y=\"-68.8\" font-family=\"Times,serif\" font-size=\"14.00\">+</text>\n",
       "</g>\n",
       "<!-- 140129221309440+&#45;&gt;140129221309440 -->\n",
       "<g id=\"edge1\" class=\"edge\">\n",
       "<title>140129221309440+&#45;&gt;140129221309440</title>\n",
       "<path fill=\"none\" stroke=\"black\" d=\"M790.06,-72.5C797.69,-72.5 806.47,-72.5 815.66,-72.5\"/>\n",
       "<polygon fill=\"black\" stroke=\"black\" points=\"815.75,-76 825.75,-72.5 815.75,-69 815.75,-76\"/>\n",
       "</g>\n",
       "<!-- 140129218962448 -->\n",
       "<g id=\"node3\" class=\"node\">\n",
       "<title>140129218962448</title>\n",
       "<polygon fill=\"none\" stroke=\"black\" points=\"2,-55.5 2,-91.5 147,-91.5 147,-55.5 2,-55.5\"/>\n",
       "<text text-anchor=\"middle\" x=\"19\" y=\"-69.8\" font-family=\"Times,serif\" font-size=\"14.00\">x1</text>\n",
       "<polyline fill=\"none\" stroke=\"black\" points=\"36,-55.5 36,-91.5 \"/>\n",
       "<text text-anchor=\"middle\" x=\"91.5\" y=\"-69.8\" font-family=\"Times,serif\" font-size=\"14.00\">data 60.0000</text>\n",
       "</g>\n",
       "<!-- 140129218968400* -->\n",
       "<g id=\"node16\" class=\"node\">\n",
       "<title>140129218968400*</title>\n",
       "<ellipse fill=\"none\" stroke=\"black\" cx=\"212\" cy=\"-73.5\" rx=\"27\" ry=\"18\"/>\n",
       "<text text-anchor=\"middle\" x=\"212\" y=\"-69.8\" font-family=\"Times,serif\" font-size=\"14.00\">*</text>\n",
       "</g>\n",
       "<!-- 140129218962448&#45;&gt;140129218968400* -->\n",
       "<g id=\"edge6\" class=\"edge\">\n",
       "<title>140129218962448&#45;&gt;140129218968400*</title>\n",
       "<path fill=\"none\" stroke=\"black\" d=\"M147.22,-73.5C156.68,-73.5 166.04,-73.5 174.55,-73.5\"/>\n",
       "<polygon fill=\"black\" stroke=\"black\" points=\"174.83,-77 184.83,-73.5 174.83,-70 174.83,-77\"/>\n",
       "</g>\n",
       "<!-- 140129218961920 -->\n",
       "<g id=\"node4\" class=\"node\">\n",
       "<title>140129218961920</title>\n",
       "<polygon fill=\"none\" stroke=\"black\" points=\"554,-82.5 554,-118.5 700,-118.5 700,-82.5 554,-82.5\"/>\n",
       "<text text-anchor=\"middle\" x=\"567\" y=\"-96.8\" font-family=\"Times,serif\" font-size=\"14.00\">n</text>\n",
       "<polyline fill=\"none\" stroke=\"black\" points=\"580,-82.5 580,-118.5 \"/>\n",
       "<text text-anchor=\"middle\" x=\"640\" y=\"-96.8\" font-family=\"Times,serif\" font-size=\"14.00\">data 720.0000</text>\n",
       "</g>\n",
       "<!-- 140129218961920&#45;&gt;140129221309440+ -->\n",
       "<g id=\"edge14\" class=\"edge\">\n",
       "<title>140129218961920&#45;&gt;140129221309440+</title>\n",
       "<path fill=\"none\" stroke=\"black\" d=\"M700.1,-85.43C709.42,-83.49 718.61,-81.57 726.94,-79.83\"/>\n",
       "<polygon fill=\"black\" stroke=\"black\" points=\"727.9,-83.2 736.97,-77.73 726.47,-76.35 727.9,-83.2\"/>\n",
       "</g>\n",
       "<!-- 140129218961920+ -->\n",
       "<g id=\"node5\" class=\"node\">\n",
       "<title>140129218961920+</title>\n",
       "<ellipse fill=\"none\" stroke=\"black\" cx=\"491\" cy=\"-100.5\" rx=\"27\" ry=\"18\"/>\n",
       "<text text-anchor=\"middle\" x=\"491\" y=\"-96.8\" font-family=\"Times,serif\" font-size=\"14.00\">+</text>\n",
       "</g>\n",
       "<!-- 140129218961920+&#45;&gt;140129218961920 -->\n",
       "<g id=\"edge2\" class=\"edge\">\n",
       "<title>140129218961920+&#45;&gt;140129218961920</title>\n",
       "<path fill=\"none\" stroke=\"black\" d=\"M518.15,-100.5C525.82,-100.5 534.63,-100.5 543.85,-100.5\"/>\n",
       "<polygon fill=\"black\" stroke=\"black\" points=\"543.98,-104 553.98,-100.5 543.98,-97 543.98,-104\"/>\n",
       "</g>\n",
       "<!-- 140129218955296 -->\n",
       "<g id=\"node6\" class=\"node\">\n",
       "<title>140129218955296</title>\n",
       "<polygon fill=\"none\" stroke=\"black\" points=\"2,-165.5 2,-201.5 147,-201.5 147,-165.5 2,-165.5\"/>\n",
       "<text text-anchor=\"middle\" x=\"19\" y=\"-179.8\" font-family=\"Times,serif\" font-size=\"14.00\">x2</text>\n",
       "<polyline fill=\"none\" stroke=\"black\" points=\"36,-165.5 36,-201.5 \"/>\n",
       "<text text-anchor=\"middle\" x=\"91.5\" y=\"-179.8\" font-family=\"Times,serif\" font-size=\"14.00\">data 24.0000</text>\n",
       "</g>\n",
       "<!-- 140129218961056* -->\n",
       "<g id=\"node13\" class=\"node\">\n",
       "<title>140129218961056*</title>\n",
       "<ellipse fill=\"none\" stroke=\"black\" cx=\"212\" cy=\"-128.5\" rx=\"27\" ry=\"18\"/>\n",
       "<text text-anchor=\"middle\" x=\"212\" y=\"-124.8\" font-family=\"Times,serif\" font-size=\"14.00\">*</text>\n",
       "</g>\n",
       "<!-- 140129218955296&#45;&gt;140129218961056* -->\n",
       "<g id=\"edge9\" class=\"edge\">\n",
       "<title>140129218955296&#45;&gt;140129218961056*</title>\n",
       "<path fill=\"none\" stroke=\"black\" d=\"M126.29,-165.38C133.94,-162.5 141.7,-159.48 149,-156.5 159.36,-152.27 170.54,-147.33 180.51,-142.79\"/>\n",
       "<polygon fill=\"black\" stroke=\"black\" points=\"182.02,-145.96 189.65,-138.6 179.1,-139.59 182.02,-145.96\"/>\n",
       "</g>\n",
       "<!-- 140129218966576 -->\n",
       "<g id=\"node7\" class=\"node\">\n",
       "<title>140129218966576</title>\n",
       "<polygon fill=\"none\" stroke=\"black\" points=\"828.5,-109.5 828.5,-145.5 968.5,-145.5 968.5,-109.5 828.5,-109.5\"/>\n",
       "<text text-anchor=\"middle\" x=\"847.5\" y=\"-123.8\" font-family=\"Times,serif\" font-size=\"14.00\">w3</text>\n",
       "<polyline fill=\"none\" stroke=\"black\" points=\"866.5,-109.5 866.5,-145.5 \"/>\n",
       "<text text-anchor=\"middle\" x=\"917.5\" y=\"-123.8\" font-family=\"Times,serif\" font-size=\"14.00\">data 2.0000</text>\n",
       "</g>\n",
       "<!-- 140129218966576&#45;&gt;140129218963024* -->\n",
       "<g id=\"edge15\" class=\"edge\">\n",
       "<title>140129218966576&#45;&gt;140129218963024*</title>\n",
       "<path fill=\"none\" stroke=\"black\" d=\"M968.6,-113.01C978.86,-110.86 989.05,-108.72 998.19,-106.8\"/>\n",
       "<polygon fill=\"black\" stroke=\"black\" points=\"998.95,-110.22 1008.01,-104.74 997.51,-103.37 998.95,-110.22\"/>\n",
       "</g>\n",
       "<!-- 140129218963024 -->\n",
       "<g id=\"node8\" class=\"node\">\n",
       "<title>140129218963024</title>\n",
       "<polygon fill=\"none\" stroke=\"black\" points=\"1097,-81.5 1097,-117.5 1251,-117.5 1251,-81.5 1097,-81.5\"/>\n",
       "<text text-anchor=\"middle\" x=\"1109.5\" y=\"-95.8\" font-family=\"Times,serif\" font-size=\"14.00\">y</text>\n",
       "<polyline fill=\"none\" stroke=\"black\" points=\"1122,-81.5 1122,-117.5 \"/>\n",
       "<text text-anchor=\"middle\" x=\"1186.5\" y=\"-95.8\" font-family=\"Times,serif\" font-size=\"14.00\">data 1454.0000</text>\n",
       "</g>\n",
       "<!-- 140129218963024*&#45;&gt;140129218963024 -->\n",
       "<g id=\"edge3\" class=\"edge\">\n",
       "<title>140129218963024*&#45;&gt;140129218963024</title>\n",
       "<path fill=\"none\" stroke=\"black\" d=\"M1061.28,-99.5C1068.86,-99.5 1077.58,-99.5 1086.72,-99.5\"/>\n",
       "<polygon fill=\"black\" stroke=\"black\" points=\"1086.79,-103 1096.79,-99.5 1086.79,-96 1086.79,-103\"/>\n",
       "</g>\n",
       "<!-- 140129375064688 -->\n",
       "<g id=\"node10\" class=\"node\">\n",
       "<title>140129375064688</title>\n",
       "<polygon fill=\"none\" stroke=\"black\" points=\"0,-0.5 0,-36.5 149,-36.5 149,-0.5 0,-0.5\"/>\n",
       "<text text-anchor=\"middle\" x=\"19\" y=\"-14.8\" font-family=\"Times,serif\" font-size=\"14.00\">w1</text>\n",
       "<polyline fill=\"none\" stroke=\"black\" points=\"38,-0.5 38,-36.5 \"/>\n",
       "<text text-anchor=\"middle\" x=\"93.5\" y=\"-14.8\" font-family=\"Times,serif\" font-size=\"14.00\">data 10.0000</text>\n",
       "</g>\n",
       "<!-- 140129375064688&#45;&gt;140129218968400* -->\n",
       "<g id=\"edge12\" class=\"edge\">\n",
       "<title>140129375064688&#45;&gt;140129218968400*</title>\n",
       "<path fill=\"none\" stroke=\"black\" d=\"M126.29,-36.62C133.94,-39.5 141.7,-42.52 149,-45.5 159.36,-49.73 170.54,-54.67 180.51,-59.21\"/>\n",
       "<polygon fill=\"black\" stroke=\"black\" points=\"179.1,-62.41 189.65,-63.4 182.02,-56.04 179.1,-62.41\"/>\n",
       "</g>\n",
       "<!-- 140129218958992 -->\n",
       "<g id=\"node11\" class=\"node\">\n",
       "<title>140129218958992</title>\n",
       "<polygon fill=\"none\" stroke=\"black\" points=\"563,-27.5 563,-63.5 691,-63.5 691,-27.5 563,-27.5\"/>\n",
       "<text text-anchor=\"middle\" x=\"576\" y=\"-41.8\" font-family=\"Times,serif\" font-size=\"14.00\">b</text>\n",
       "<polyline fill=\"none\" stroke=\"black\" points=\"589,-27.5 589,-63.5 \"/>\n",
       "<text text-anchor=\"middle\" x=\"640\" y=\"-41.8\" font-family=\"Times,serif\" font-size=\"14.00\">data 7.0000</text>\n",
       "</g>\n",
       "<!-- 140129218958992&#45;&gt;140129221309440+ -->\n",
       "<g id=\"edge13\" class=\"edge\">\n",
       "<title>140129218958992&#45;&gt;140129221309440+</title>\n",
       "<path fill=\"none\" stroke=\"black\" d=\"M691.08,-58.21C703.42,-60.7 715.95,-63.22 726.96,-65.44\"/>\n",
       "<polygon fill=\"black\" stroke=\"black\" points=\"726.52,-68.92 737.01,-67.47 727.9,-62.06 726.52,-68.92\"/>\n",
       "</g>\n",
       "<!-- 140129218961056 -->\n",
       "<g id=\"node12\" class=\"node\">\n",
       "<title>140129218961056</title>\n",
       "<polygon fill=\"none\" stroke=\"black\" points=\"275,-110.5 275,-146.5 428,-146.5 428,-110.5 275,-110.5\"/>\n",
       "<text text-anchor=\"middle\" x=\"291.5\" y=\"-124.8\" font-family=\"Times,serif\" font-size=\"14.00\">s2</text>\n",
       "<polyline fill=\"none\" stroke=\"black\" points=\"308,-110.5 308,-146.5 \"/>\n",
       "<text text-anchor=\"middle\" x=\"368\" y=\"-124.8\" font-family=\"Times,serif\" font-size=\"14.00\">data 120.0000</text>\n",
       "</g>\n",
       "<!-- 140129218961056&#45;&gt;140129218961920+ -->\n",
       "<g id=\"edge10\" class=\"edge\">\n",
       "<title>140129218961056&#45;&gt;140129218961920+</title>\n",
       "<path fill=\"none\" stroke=\"black\" d=\"M428.09,-113.11C437.48,-111.2 446.7,-109.32 455.03,-107.62\"/>\n",
       "<polygon fill=\"black\" stroke=\"black\" points=\"455.97,-111 465.07,-105.58 454.57,-104.14 455.97,-111\"/>\n",
       "</g>\n",
       "<!-- 140129218961056*&#45;&gt;140129218961056 -->\n",
       "<g id=\"edge4\" class=\"edge\">\n",
       "<title>140129218961056*&#45;&gt;140129218961056</title>\n",
       "<path fill=\"none\" stroke=\"black\" d=\"M239.19,-128.5C246.8,-128.5 255.55,-128.5 264.74,-128.5\"/>\n",
       "<polygon fill=\"black\" stroke=\"black\" points=\"264.85,-132 274.85,-128.5 264.85,-125 264.85,-132\"/>\n",
       "</g>\n",
       "<!-- 140129218954960 -->\n",
       "<g id=\"node14\" class=\"node\">\n",
       "<title>140129218954960</title>\n",
       "<polygon fill=\"none\" stroke=\"black\" points=\"4.5,-110.5 4.5,-146.5 144.5,-146.5 144.5,-110.5 4.5,-110.5\"/>\n",
       "<text text-anchor=\"middle\" x=\"23.5\" y=\"-124.8\" font-family=\"Times,serif\" font-size=\"14.00\">w2</text>\n",
       "<polyline fill=\"none\" stroke=\"black\" points=\"42.5,-110.5 42.5,-146.5 \"/>\n",
       "<text text-anchor=\"middle\" x=\"93.5\" y=\"-124.8\" font-family=\"Times,serif\" font-size=\"14.00\">data 5.0000</text>\n",
       "</g>\n",
       "<!-- 140129218954960&#45;&gt;140129218961056* -->\n",
       "<g id=\"edge11\" class=\"edge\">\n",
       "<title>140129218954960&#45;&gt;140129218961056*</title>\n",
       "<path fill=\"none\" stroke=\"black\" d=\"M144.84,-128.5C155.25,-128.5 165.6,-128.5 174.93,-128.5\"/>\n",
       "<polygon fill=\"black\" stroke=\"black\" points=\"174.96,-132 184.96,-128.5 174.96,-125 174.96,-132\"/>\n",
       "</g>\n",
       "<!-- 140129218968400 -->\n",
       "<g id=\"node15\" class=\"node\">\n",
       "<title>140129218968400</title>\n",
       "<polygon fill=\"none\" stroke=\"black\" points=\"275,-55.5 275,-91.5 428,-91.5 428,-55.5 275,-55.5\"/>\n",
       "<text text-anchor=\"middle\" x=\"291.5\" y=\"-69.8\" font-family=\"Times,serif\" font-size=\"14.00\">s1</text>\n",
       "<polyline fill=\"none\" stroke=\"black\" points=\"308,-55.5 308,-91.5 \"/>\n",
       "<text text-anchor=\"middle\" x=\"368\" y=\"-69.8\" font-family=\"Times,serif\" font-size=\"14.00\">data 600.0000</text>\n",
       "</g>\n",
       "<!-- 140129218968400&#45;&gt;140129218961920+ -->\n",
       "<g id=\"edge8\" class=\"edge\">\n",
       "<title>140129218968400&#45;&gt;140129218961920+</title>\n",
       "<path fill=\"none\" stroke=\"black\" d=\"M428.09,-88.34C437.39,-90.17 446.52,-91.96 454.8,-93.59\"/>\n",
       "<polygon fill=\"black\" stroke=\"black\" points=\"454.28,-97.05 464.77,-95.55 455.63,-90.18 454.28,-97.05\"/>\n",
       "</g>\n",
       "<!-- 140129218968400*&#45;&gt;140129218968400 -->\n",
       "<g id=\"edge5\" class=\"edge\">\n",
       "<title>140129218968400*&#45;&gt;140129218968400</title>\n",
       "<path fill=\"none\" stroke=\"black\" d=\"M239.19,-73.5C246.8,-73.5 255.55,-73.5 264.74,-73.5\"/>\n",
       "<polygon fill=\"black\" stroke=\"black\" points=\"264.85,-77 274.85,-73.5 264.85,-70 264.85,-77\"/>\n",
       "</g>\n",
       "</g>\n",
       "</svg>\n"
      ],
      "text/plain": [
       "<graphviz.graphs.Digraph at 0x7f726051b5e0>"
      ]
     },
     "execution_count": 23,
     "metadata": {},
     "output_type": "execute_result"
    }
   ],
   "source": [
    "x1 = Valor(60, rotulo=\"x1\")\n",
    "x2 = Valor(24, rotulo=\"x2\")\n",
    "w1 = Valor(10, rotulo=\"w1\")\n",
    "w2 = Valor(5, rotulo=\"w2\")\n",
    "w3 = Valor(2, rotulo=\"w3\")\n",
    "b = Valor(7, rotulo=\"b\")\n",
    "\n",
    "s1 = x1 * w1\n",
    "s1.rotulo = \"s1\"\n",
    "\n",
    "s2 = x2 * w2\n",
    "s2.rotulo = \"s2\"\n",
    "\n",
    "n = s1 + s2\n",
    "n.rotulo = \"n\"\n",
    "\n",
    "k = n + b\n",
    "k.rotulo = \"k\"\n",
    "\n",
    "y = k * w3\n",
    "y.rotulo = \"y\"\n",
    "\n",
    "plota_grafo(y)"
   ]
  },
  {
   "cell_type": "markdown",
   "metadata": {},
   "source": [
    "## Conclusão\n",
    "\n"
   ]
  },
  {
   "cell_type": "markdown",
   "metadata": {},
   "source": [
    "## Playground\n",
    "\n"
   ]
  },
  {
   "cell_type": "code",
   "execution_count": null,
   "metadata": {},
   "outputs": [],
   "source": []
  }
 ],
 "metadata": {
  "kernelspec": {
   "display_name": "ilumpy",
   "language": "python",
   "name": "ilumpy"
  },
  "language_info": {
   "codemirror_mode": {
    "name": "ipython",
    "version": 3
   },
   "file_extension": ".py",
   "mimetype": "text/x-python",
   "name": "python",
   "nbconvert_exporter": "python",
   "pygments_lexer": "ipython3",
   "version": "3.9.7"
  },
  "org": null
 },
 "nbformat": 4,
 "nbformat_minor": 4
}
