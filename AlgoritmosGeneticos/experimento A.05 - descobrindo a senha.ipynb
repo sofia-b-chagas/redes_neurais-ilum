{
 "cells": [
  {
   "cell_type": "markdown",
   "metadata": {},
   "source": [
    "Descobrindo a senha\n",
    "===================\n",
    "\n"
   ]
  },
  {
   "cell_type": "markdown",
   "metadata": {},
   "source": [
    "## Objetivo\n",
    "\n"
   ]
  },
  {
   "cell_type": "markdown",
   "metadata": {},
   "source": [
    "Usar um algoritmo genético para descobrir uma senha.\n",
    "\n"
   ]
  },
  {
   "cell_type": "markdown",
   "metadata": {},
   "source": [
    "## Descrição do problema\n",
    "\n"
   ]
  },
  {
   "cell_type": "markdown",
   "metadata": {},
   "source": [
    "Neste problema, a função objetivo deve saber a senha correta e quantificar de alguma maneira o quão perto ou longe os palpites estão da solução (veja que isso é algo que não temos no mundo real. Nenhum site irá te dizer se você está acertando ou errando seu palpite). O critério de parada deste problema é quando a senha for descoberta.\n",
    "\n"
   ]
  },
  {
   "cell_type": "markdown",
   "metadata": {},
   "source": [
    "## Importações\n",
    "\n"
   ]
  },
  {
   "cell_type": "code",
   "execution_count": null,
   "metadata": {},
   "outputs": [],
   "source": [
    "from funcoes import populacao_inicial_senha\n",
    "from funcoes import funcao_objetivo_pop_senha\n",
    "from funcoes import selecao_torneio_min\n",
    "from funcoes import cruzamento_ponto_simples as funcao_cruzamento\n",
    "from funcoes import mutacao_senha\n",
    "import random"
   ]
  },
  {
   "cell_type": "markdown",
   "metadata": {},
   "source": [
    "## Códigos e discussão\n",
    "\n"
   ]
  },
  {
   "cell_type": "code",
   "execution_count": null,
   "metadata": {},
   "outputs": [],
   "source": [
    "# constantes gerais\n",
    "TAMANHO_POP = 50\n",
    "CHANCE_CRUZAMENTO = 0.5\n",
    "CHANCE_MUTACAO = 0.05\n",
    "NUM_COMBATENTES_NO_TORNEIO = 3\n",
    "\n",
    "# constantes específicas\n",
    "SENHA = \"correcthorsebatterystaple\"\n",
    "LETRAS_POSSIVEIS = \"abcdefghijklmnopqrstuvwxyz\"\n",
    "NUM_GENES = len(SENHA)"
   ]
  },
  {
   "cell_type": "code",
   "execution_count": null,
   "metadata": {},
   "outputs": [],
   "source": [
    "# funções locais\n",
    "def cria_populacao_inicial(tamanho, tamanho_senha):\n",
    "    return populacao_inicial_senha(tamanho, tamanho_senha, LETRAS_POSSIVEIS)\n",
    "\n",
    "def funcao_objetivo_pop(populacao):\n",
    "    return funcao_objetivo_pop_senha(populacao, SENHA)\n",
    "\n",
    "def funcao_selecao(populacao, fitness):\n",
    "    return selecao_torneio_min(populacao, fitness, NUM_COMBATENTES_NO_TORNEIO)\n",
    "\n",
    "def funcao_mutacao(individuo):\n",
    "    return mutacao_senha(individuo, LETRAS_POSSIVEIS)"
   ]
  },
  {
   "cell_type": "code",
   "execution_count": null,
   "metadata": {
    "tags": []
   },
   "outputs": [
    {
     "name": "stdout",
     "output_type": "stream",
     "text": [
      "Progresso da melhor senha já vista:\n",
      "cqqykeykopufiijpkndauakkg - fitness: 118\n",
      "cqqukeykopufiijpkndhuakkb - fitness: 108\n",
      "egxjkeykopufiivscwqauakkg - fitness: 105\n",
      "cqqukeykopufiivscwqauakkg - fitness: 87\n",
      "cqqukeykopufiivsixqttbjmj - fitness: 77\n",
      "cqqukeykopufiivpixzttbjmj - fitness: 73\n",
      "cqqukeykopufiivscwzttbjmj - fitness: 67\n",
      "cqqukeykopufiivscxzttbkkg - fitness: 64\n",
      "cqqqkeykopufiivscxzttbkkg - fitness: 62\n",
      "cqqqkbykopufiivscxzttbkkg - fitness: 61\n",
      "cqqqjbykopufiivscxzttbkkg - fitness: 60\n",
      "cqqqjbykopufiivscvzttbkkg - fitness: 58\n",
      "cqqqjbykopufiivscszttbkkg - fitness: 55\n",
      "cqqqjbykoprfiivscszttbkkg - fitness: 54\n",
      "cqqqjbykoprfifvscszttbkkg - fitness: 51\n",
      "cqqqjbyfoprfifvscszttbkkg - fitness: 50\n",
      "cqqqjbyfoprfievscszttbkkg - fitness: 49\n",
      "cqqqjbyfoprfifvseszttbkkg - fitness: 48\n",
      "cqqqjbyfoprfievseszttbkkg - fitness: 47\n",
      "cqqqcbyfoprfievseszttbkkg - fitness: 44\n",
      "cqqqcbyfoprfievseszttbnkg - fitness: 41\n",
      "cqqqcbrfoprfievseszttbnkg - fitness: 38\n",
      "cqqqcbrfoprfgevseszttbnkg - fitness: 36\n",
      "cqqqcbrfoprfaevseszttbnkg - fitness: 32\n",
      "cqqqcbrfoprfaesseszttbnkg - fitness: 31\n",
      "cnqqcbrfoprfaesseszttbnkg - fitness: 30\n",
      "cnqqcbrfopreaesseszttbnkg - fitness: 29\n",
      "cnqqcbrhopreaesseszttbrkg - fitness: 27\n",
      "cnqqcbrhorreaesseszttbrkg - fitness: 25\n",
      "cnqqcbrhorreaesseszttbrke - fitness: 23\n",
      "cnqqfbrhorreaesseszttbrke - fitness: 22\n",
      "cnqqfbthorreaesseszttbrke - fitness: 20\n",
      "cnqqfbthorreacsseszttbrke - fitness: 18\n",
      "cnqqfbthorreactseszttbrke - fitness: 17\n",
      "cnqqebthorreactseszttbrke - fitness: 16\n",
      "cnqqebthorreactteszttbrke - fitness: 15\n",
      "cnqqebthorreactteszttboke - fitness: 14\n",
      "coqqebthorreactteszttboke - fitness: 13\n",
      "coqqebthorreactteszttbole - fitness: 12\n",
      "coqqebthorreaatteszttboke - fitness: 11\n",
      "coqqebthorreaatteszttbole - fitness: 10\n",
      "coqqebthorreaatteszstbole - fitness: 9\n",
      "coqqebthorseaatteszstbole - fitness: 8\n",
      "coqrebthorseaatteszstbole - fitness: 7\n",
      "correbthorseaatteszstbole - fitness: 6\n",
      "correbthorseaattesystbole - fitness: 5\n",
      "correbthorseaatterystbole - fitness: 4\n",
      "correbthorseaatterystbple - fitness: 3\n",
      "correbthorseaatterystaple - fitness: 2\n",
      "corredthorsebatterystaple - fitness: 1\n",
      "correcthorsebatterystaple - fitness: 0\n"
     ]
    }
   ],
   "source": [
    "# geração da população\n",
    "\n",
    "populacao = cria_populacao_inicial(TAMANHO_POP, NUM_GENES)\n",
    "\n",
    "melhor_fitness_ja_visto = float(\"inf\")  # é assim que escrevemos infinito em python\n",
    "\n",
    "print(\"Progresso da melhor senha já vista:\")\n",
    "\n",
    "while melhor_fitness_ja_visto != 0:   \n",
    "    \n",
    "    # Seleção\n",
    "    fitness = funcao_objetivo_pop(populacao)\n",
    "    populacao = funcao_selecao(populacao, fitness)\n",
    "    \n",
    "    # Cruzamento\n",
    "    pais = populacao[0::2]\n",
    "    maes = populacao[1::2]\n",
    "    \n",
    "    contador = 0\n",
    "    \n",
    "    for pai, mae in zip(pais, maes):\n",
    "        if random.random() <= CHANCE_CRUZAMENTO:\n",
    "            filho1, filho2 = funcao_cruzamento(pai, mae)\n",
    "            populacao[contador] = filho1\n",
    "            populacao[contador + 1] = filho2\n",
    "        \n",
    "        contador = contador + 2   \n",
    "        \n",
    "    # Mutação\n",
    "    for n in range(len(populacao)):\n",
    "        if random.random() <= CHANCE_MUTACAO:\n",
    "            individuo = populacao[n]\n",
    "            populacao[n] = funcao_mutacao(individuo)            \n",
    "            \n",
    "    # melhor individuo já visto até agora\n",
    "    fitness = funcao_objetivo_pop(populacao)\n",
    "    menor_fitness = min(fitness)\n",
    "    if menor_fitness < melhor_fitness_ja_visto:        \n",
    "        posicao = fitness.index(menor_fitness)\n",
    "        melhor_individuo_ja_visto = populacao[posicao].copy()\n",
    "        melhor_fitness_ja_visto = menor_fitness\n",
    "        print(\"\".join(melhor_individuo_ja_visto), \"- fitness:\", melhor_fitness_ja_visto)"
   ]
  },
  {
   "cell_type": "code",
   "execution_count": 17,
   "metadata": {},
   "outputs": [
    {
     "name": "stdout",
     "output_type": "stream",
     "text": [
      "\n",
      "Melhor palpite da senha encontrado:\n",
      "correcthorsebatterystaple\n"
     ]
    }
   ],
   "source": [
    "print()\n",
    "print(\"Melhor palpite da senha encontrado:\")\n",
    "print(\"\".join(melhor_individuo_ja_visto))"
   ]
  },
  {
   "cell_type": "markdown",
   "metadata": {},
   "source": [
    "## Conclusão\n",
    "\n"
   ]
  },
  {
   "cell_type": "markdown",
   "metadata": {},
   "source": [
    "Esse algoritmo de minimização ainda possui uma implementação bastante semelhante ao de maximização, por isso esse experiemento foi mais uma progressão baseada em adaptação do código anterior. Apesar de virtualmente nunca seguir o mesmo caminho, o algoritmo sempre chega ao resultado correto com pouca variação no número de tentativas ou do score inicial. É interessante notar, também, como os scores de fitness vão afunilando conforme as gerações (na maioria das vezes que rodei, os primeiros apresentaram uma diferença entre 10 a 30 pontos, então os dez finalistas sempre são sequenciais."
   ]
  },
  {
   "cell_type": "markdown",
   "metadata": {},
   "source": [
    "## Playground\n",
    "\n"
   ]
  },
  {
   "cell_type": "code",
   "execution_count": null,
   "metadata": {},
   "outputs": [],
   "source": []
  }
 ],
 "metadata": {
  "kernelspec": {
   "display_name": "ilumpy",
   "language": "python",
   "name": "ilumpy"
  },
  "language_info": {
   "codemirror_mode": {
    "name": "ipython",
    "version": 3
   },
   "file_extension": ".py",
   "mimetype": "text/x-python",
   "name": "python",
   "nbconvert_exporter": "python",
   "pygments_lexer": "ipython3",
   "version": "3.9.7"
  },
  "org": null
 },
 "nbformat": 4,
 "nbformat_minor": 4
}
