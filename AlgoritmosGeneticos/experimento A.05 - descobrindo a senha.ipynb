{
 "cells": [
  {
   "cell_type": "markdown",
   "metadata": {},
   "source": [
    "Descobrindo a senha\n",
    "===================\n",
    "\n"
   ]
  },
  {
   "cell_type": "markdown",
   "metadata": {},
   "source": [
    "## Objetivo\n",
    "\n"
   ]
  },
  {
   "cell_type": "markdown",
   "metadata": {},
   "source": [
    "Usar um algoritmo genético para descobrir uma senha.\n",
    "\n"
   ]
  },
  {
   "cell_type": "markdown",
   "metadata": {},
   "source": [
    "## Descrição do problema\n",
    "\n"
   ]
  },
  {
   "cell_type": "markdown",
   "metadata": {},
   "source": [
    "Neste problema, a função objetivo deve saber a senha correta e quantificar de alguma maneira o quão perto ou longe os palpites estão da solução (veja que isso é algo que não temos no mundo real. Nenhum site irá te dizer se você está acertando ou errando seu palpite). O critério de parada deste problema é quando a senha for descoberta.\n",
    "\n"
   ]
  },
  {
   "cell_type": "markdown",
   "metadata": {},
   "source": [
    "## Importações\n",
    "\n"
   ]
  },
  {
   "cell_type": "code",
   "execution_count": 1,
   "metadata": {},
   "outputs": [],
   "source": [
    "from funcoes import populacao_inicial_senha\n",
    "from funcoes import funcao_objetivo_pop_senha\n",
    "from funcoes import selecao_torneio_min\n",
    "from funcoes import cruzamento_ponto_simples as funcao_cruzamento\n",
    "from funcoes import mutacao_senha\n",
    "import random"
   ]
  },
  {
   "cell_type": "markdown",
   "metadata": {},
   "source": [
    "## Códigos e discussão\n",
    "\n"
   ]
  },
  {
   "cell_type": "code",
   "execution_count": 2,
   "metadata": {},
   "outputs": [],
   "source": [
    "# constantes gerais\n",
    "TAMANHO_POP = 50\n",
    "CHANCE_CRUZAMENTO = 0.5\n",
    "CHANCE_MUTACAO = 0.05\n",
    "NUM_COMBATENTES_NO_TORNEIO = 3\n",
    "\n",
    "# constantes específicas\n",
    "SENHA = \"correcthorsebatterystaple\"\n",
    "LETRAS_POSSIVEIS = \"abcdefghijklmnopqrstuvwxyz\"\n",
    "NUM_GENES = len(SENHA)"
   ]
  },
  {
   "cell_type": "markdown",
   "metadata": {},
   "source": [
    "Nós readequamos as funções para facilitar a escrita, a leitura do código e a inserção dos argumentos específicos para este caso:"
   ]
  },
  {
   "cell_type": "code",
   "execution_count": 3,
   "metadata": {},
   "outputs": [],
   "source": [
    "# funções locais\n",
    "def cria_populacao_inicial(tamanho, tamanho_senha):\n",
    "    return populacao_inicial_senha(tamanho, tamanho_senha, LETRAS_POSSIVEIS)\n",
    "\n",
    "def funcao_objetivo_pop(populacao):\n",
    "    return funcao_objetivo_pop_senha(populacao, SENHA)\n",
    "\n",
    "def funcao_selecao(populacao, fitness):\n",
    "    return selecao_torneio_min(populacao, fitness, NUM_COMBATENTES_NO_TORNEIO)\n",
    "\n",
    "def funcao_mutacao(individuo):\n",
    "    return mutacao_senha(individuo, LETRAS_POSSIVEIS)"
   ]
  },
  {
   "cell_type": "markdown",
   "metadata": {},
   "source": [
    "Aqui, o *fitness* é aproximado do ideal por cima (infinito positivo), pois quando se igualar a zero significará que a distância entre o indivíduo gerado e a senha verdadeira é 0."
   ]
  },
  {
   "cell_type": "code",
   "execution_count": 4,
   "metadata": {
    "tags": []
   },
   "outputs": [
    {
     "name": "stdout",
     "output_type": "stream",
     "text": [
      "Progresso da melhor senha já vista:\n",
      "bhrpccralgpejokfxpqowaxvt - fitness: 152\n",
      "bhrpccralgpejokfxpqowaxmd - fitness: 129\n",
      "bhrpccralzovhknsfkrjtkvsd - fitness: 124\n",
      "bhrpccralzovhknsfkrjtkmsd - fitness: 121\n",
      "gmsuicrcavuabwopbwqewalmd - fitness: 115\n",
      "bhrpccujmujrecflqoxxuclmd - fitness: 99\n",
      "bhrpccrjmujreknsfkrowaxmd - fitness: 95\n",
      "bhrpccrjmujreknsfkxxuclmd - fitness: 86\n",
      "bhrpccujmuuablopbkrowaxmd - fitness: 80\n",
      "bhrpccujmuuabcopbkrowaxmd - fitness: 71\n",
      "bhrpccujmuuablosfkxxuclmd - fitness: 66\n",
      "bhrpccujmuuablopfrxxuclmd - fitness: 62\n",
      "bhrpccujmuuaecnsfrxxuclmd - fitness: 54\n",
      "bhrpccujmuuaectsfrxxuclmd - fitness: 48\n",
      "bhrpccujmuuaecttfrxxuclmd - fitness: 47\n",
      "bmrpccujmuuaectsfrxxuclmd - fitness: 43\n",
      "bmrpccujmuuaecttfrxxuclmd - fitness: 42\n",
      "bmrpccujmutaecttfrxxuclmd - fitness: 41\n",
      "bmrsccujmutaecttfrxxuclmd - fitness: 40\n",
      "bmrsccujmutaecttfrxruclmd - fitness: 36\n",
      "bmrscctjmutaecttfrxruclmd - fitness: 35\n",
      "bmrscctjoutaecttfrxruclmd - fitness: 33\n",
      "bprscctjoutaebttfrxruclmd - fitness: 31\n",
      "bprscctjoutaebttfrxruclld - fitness: 30\n",
      "bprscctgoutaebttfrxruclld - fitness: 29\n",
      "bprscctgouthebttfrxruclld - fitness: 28\n",
      "bprscctgouteebttfrxruclld - fitness: 25\n",
      "bprscctgouteebttfrxruclle - fitness: 24\n",
      "cprscctgouteebttfrxruclle - fitness: 23\n",
      "bprscctgouteebttfrxrucole - fitness: 21\n",
      "cprscctgouteebttfrxrucole - fitness: 20\n",
      "bprscctgoqteebttfrxrucole - fitness: 19\n",
      "cprscctgoqteebttfrxrucole - fitness: 18\n",
      "cprscctgoqtebbttfrxrucole - fitness: 15\n",
      "cprsectgoqtebbttfrxrucole - fitness: 13\n",
      "cprsecthoqtebbttfrxrucole - fitness: 12\n",
      "cprsecthoqsebbttfrxrucole - fitness: 11\n",
      "cprrecthoqsebbttfrxrucole - fitness: 10\n",
      "cprrecthorsebbttfrxrucole - fitness: 9\n",
      "cprrecthorsebbttfrxrubole - fitness: 8\n",
      "cprrecthorsebbttfrxrubple - fitness: 7\n",
      "cprrecthorsebbttfryrubple - fitness: 6\n",
      "correcthorsebbttfryrubple - fitness: 5\n",
      "correcthorsebbttfryruaple - fitness: 4\n",
      "correcthorsebattfryruaple - fitness: 3\n",
      "correcthorsebattfrysuaple - fitness: 2\n",
      "correcthorsebattfrystaple - fitness: 1\n",
      "correcthorsebatterystaple - fitness: 0\n"
     ]
    }
   ],
   "source": [
    "# geração da população\n",
    "\n",
    "populacao = cria_populacao_inicial(TAMANHO_POP, NUM_GENES)\n",
    "\n",
    "melhor_fitness_ja_visto = float(\"inf\")  # é assim que escrevemos infinito em python\n",
    "\n",
    "print(\"Progresso da melhor senha já vista:\")\n",
    "\n",
    "while melhor_fitness_ja_visto != 0:   \n",
    "    \n",
    "    # Seleção\n",
    "    fitness = funcao_objetivo_pop(populacao)\n",
    "    populacao = funcao_selecao(populacao, fitness)\n",
    "    \n",
    "    # Cruzamento\n",
    "    pais = populacao[0::2]\n",
    "    maes = populacao[1::2]\n",
    "    \n",
    "    contador = 0\n",
    "    \n",
    "    for pai, mae in zip(pais, maes):\n",
    "        if random.random() <= CHANCE_CRUZAMENTO:\n",
    "            filho1, filho2 = funcao_cruzamento(pai, mae)\n",
    "            populacao[contador] = filho1\n",
    "            populacao[contador + 1] = filho2\n",
    "        \n",
    "        contador = contador + 2   \n",
    "        \n",
    "    # Mutação\n",
    "    for n in range(len(populacao)):\n",
    "        if random.random() <= CHANCE_MUTACAO:\n",
    "            individuo = populacao[n]\n",
    "            populacao[n] = funcao_mutacao(individuo)            \n",
    "            \n",
    "    # melhor individuo já visto até agora\n",
    "    fitness = funcao_objetivo_pop(populacao)\n",
    "    menor_fitness = min(fitness)\n",
    "    if menor_fitness < melhor_fitness_ja_visto:        \n",
    "        posicao = fitness.index(menor_fitness)\n",
    "        melhor_individuo_ja_visto = populacao[posicao].copy()\n",
    "        melhor_fitness_ja_visto = menor_fitness\n",
    "        print(\"\".join(melhor_individuo_ja_visto), \"- fitness:\", melhor_fitness_ja_visto)"
   ]
  },
  {
   "cell_type": "code",
   "execution_count": 5,
   "metadata": {},
   "outputs": [
    {
     "name": "stdout",
     "output_type": "stream",
     "text": [
      "\n",
      "Melhor palpite da senha encontrado:\n",
      "correcthorsebatterystaple\n"
     ]
    }
   ],
   "source": [
    "print()\n",
    "print(\"Melhor palpite da senha encontrado:\")\n",
    "print(\"\".join(melhor_individuo_ja_visto))"
   ]
  },
  {
   "cell_type": "markdown",
   "metadata": {},
   "source": [
    "## Conclusão\n",
    "\n"
   ]
  },
  {
   "cell_type": "markdown",
   "metadata": {},
   "source": [
    "Abordamos o problema de descobrir a senha a partir de um algoritmo de minimização, que possui uma implementação bastante semelhante ao de maximização. Por isso, esse experiemento foi mais uma progressão baseada na adaptação do código anterior. A diferença da minimização nesse caso se dá na aproximação por cima, pois o limite de distância = 0 é melhor definido.\n",
    "\n",
    "Apesar de virtualmente nunca seguir o mesmo caminho, o algoritmo sempre chega ao resultado correto com pouca variação no número de tentativas ou do *score* inicial. É interessante notar, também, como os *scores* de *fitness* vão afunilando conforme as gerações (na maioria das vezes que rodei, os primeiros apresentaram uma diferença entre 10 a 30 pontos, enquanto os dez finalistas sempre são sequenciais)."
   ]
  },
  {
   "cell_type": "markdown",
   "metadata": {},
   "source": [
    "## Playground\n",
    "\n"
   ]
  },
  {
   "cell_type": "code",
   "execution_count": null,
   "metadata": {},
   "outputs": [],
   "source": []
  }
 ],
 "metadata": {
  "kernelspec": {
   "display_name": "ilumpy",
   "language": "python",
   "name": "ilumpy"
  },
  "language_info": {
   "codemirror_mode": {
    "name": "ipython",
    "version": 3
   },
   "file_extension": ".py",
   "mimetype": "text/x-python",
   "name": "python",
   "nbconvert_exporter": "python",
   "pygments_lexer": "ipython3",
   "version": "3.9.7"
  },
  "org": null
 },
 "nbformat": 4,
 "nbformat_minor": 4
}
