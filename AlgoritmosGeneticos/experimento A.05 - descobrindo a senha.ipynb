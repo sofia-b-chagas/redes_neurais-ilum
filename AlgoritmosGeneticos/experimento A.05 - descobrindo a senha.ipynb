{
 "cells": [
  {
   "cell_type": "markdown",
   "metadata": {},
   "source": [
    "Descobrindo a senha\n",
    "===================\n",
    "\n"
   ]
  },
  {
   "cell_type": "markdown",
   "metadata": {},
   "source": [
    "## Objetivo\n",
    "\n"
   ]
  },
  {
   "cell_type": "markdown",
   "metadata": {},
   "source": [
    "Usar um algoritmo genético para descobrir uma senha.\n",
    "\n"
   ]
  },
  {
   "cell_type": "markdown",
   "metadata": {},
   "source": [
    "## Descrição do problema\n",
    "\n"
   ]
  },
  {
   "cell_type": "markdown",
   "metadata": {},
   "source": [
    "Neste problema, a função objetivo deve saber a senha correta e quantificar de alguma maneira o quão perto ou longe os palpites estão da solução (veja que isso é algo que não temos no mundo real. Nenhum site irá te dizer se você está acertando ou errando seu palpite). O critério de parada deste problema é quando a senha for descoberta.\n",
    "\n"
   ]
  },
  {
   "cell_type": "markdown",
   "metadata": {},
   "source": [
    "## Importações\n",
    "\n"
   ]
  },
  {
   "cell_type": "code",
   "execution_count": 1,
   "metadata": {},
   "outputs": [],
   "source": [
    "from funcoes import populacao_inicial_senha\n",
    "from funcoes import funcao_objetivo_pop_senha\n",
    "from funcoes import selecao_torneio_min\n",
    "from funcoes import cruzamento_ponto_simples as funcao_cruzamento\n",
    "from funcoes import mutacao_senha\n",
    "import random as rd"
   ]
  },
  {
   "cell_type": "markdown",
   "metadata": {},
   "source": [
    "## Códigos e discussão\n",
    "\n"
   ]
  },
  {
   "cell_type": "code",
   "execution_count": 15,
   "metadata": {},
   "outputs": [],
   "source": [
    "# constantes gerais\n",
    "TAMANHO_POP = 50\n",
    "CHANCE_CRUZAMENTO = 0.5\n",
    "CHANCE_MUTACAO = 0.05\n",
    "NUM_COMBATENTES_NO_TORNEIO = 3\n",
    "\n",
    "# constantes específicas\n",
    "SENHA = \"correcthorsebatterystaple\"\n",
    "LETRAS_POSSIVEIS = \"abcdefghijklmnopqrstuvwxyz\"\n",
    "NUM_GENES = len(SENHA)\n",
    "\n",
    "# funções locais (para não ter que colocar as variaveis locais no script)\n",
    "\n",
    "def cria_populacao_inicial(tamanho, tamanho_senha):\n",
    "    return populacao_inicial_senha(tamanho, tamanho_senha, LETRAS_POSSIVEIS)\n",
    "\n",
    "def funcao_objetivo_pop(populacao):\n",
    "    return funcao_objetivo_pop_senha(populacao, SENHA)\n",
    "\n",
    "def funcao_selecao(populacao, fitness):\n",
    "    return selecao_torneio_min(populacao, fitness, NUM_COMBATENTES_NO_TORNEIO)\n",
    "\n",
    "def funcao_mutacao(individuo):\n",
    "    return mutacao_senha(individuo, LETRAS_POSSIVEIS)"
   ]
  },
  {
   "cell_type": "code",
   "execution_count": 17,
   "metadata": {
    "tags": []
   },
   "outputs": [
    {
     "name": "stdout",
     "output_type": "stream",
     "text": [
      "Progresso da melhor senha já vista:\n",
      "ahaqgkpaltovhifxsopdpfxjd - fitness: 167\n",
      "jshofgirvfufeywzjuarnesmi - fitness: 159\n",
      "fnpukgirvfufeywzjuarnesmi - fitness: 149\n",
      "gmdtkkncmfgfjxytgkxtnesmi - fitness: 139\n",
      "fnpukgirvfufjxytgkxtwhmyc - fitness: 137\n",
      "gmpukbmjgsffeywzgkxtwhmyj - fitness: 128\n",
      "fnpukkncmfgfjxytgkxtnesmi - fitness: 126\n",
      "gmpukkncmfufjxytgkxtwhmmi - fitness: 118\n",
      "fnpukgncmfufjxytgkxtwhmmi - fitness: 112\n",
      "fnpukgncmfufjxytgkxtwesmi - fitness: 109\n",
      "gmpukkncmfufjgytgkxtnesmi - fitness: 101\n",
      "gmpukkncmfufjgytgkxtvesmi - fitness: 97\n",
      "fnpukgncmfufjgytgkxtvesmi - fitness: 91\n",
      "fnpujgncmfufjgytgkxtvesmi - fitness: 90\n",
      "enpuagncmfufjgytgkxtvesmi - fitness: 88\n",
      "enpuagncmfufjgytgkxttesmi - fitness: 86\n",
      "enpukgnjmfufjgytgkxttesmi - fitness: 85\n",
      "enpuagnjmfufjgytgkxttesmi - fitness: 83\n",
      "enpuagnjmfufjgwtgkxttesmi - fitness: 81\n",
      "enpuagpjmfufjgwtgkxttesmi - fitness: 79\n",
      "enpuagpjmiufjgwtgkxttesmg - fitness: 74\n",
      "enpuagpjmiufjgrtgkxttesmg - fitness: 73\n",
      "enpuagpjmxufjgwtgkxttesmg - fitness: 71\n",
      "enpuagpjmxufjgwtgkxttasmg - fitness: 67\n",
      "enpuagpjmxufjgwtgqxttasmg - fitness: 61\n",
      "enpuabpjmxufjgwtgqxttasmg - fitness: 58\n",
      "enpuabpjmxufjgwtgrxttasmg - fitness: 57\n",
      "enpuabpjmnufjgwtgrxttasmg - fitness: 55\n",
      "enpuabpfpnufjgwtgrxttasmg - fitness: 54\n",
      "enpuabrfpnufjgwtgrxttasmg - fitness: 52\n",
      "enpuabrfpnufjgwtgrxttaslg - fitness: 51\n",
      "enpubbrfpnufjgwtgrxttaslg - fitness: 50\n",
      "enpubbtfpnufjgwtgrxttaslg - fitness: 48\n",
      "enpubbrfpnufjgttgrxttaslg - fitness: 47\n",
      "enpubbtfpnufjgttgrxttaslg - fitness: 45\n",
      "enppbbtfpnufjgttgrxttaslg - fitness: 44\n",
      "enppbbtfpnufjgttgrxttaslf - fitness: 43\n",
      "enppbbtfpnufjgttgrxttasle - fitness: 42\n",
      "enppfbtfpnufjgttgrxttasle - fitness: 40\n",
      "bnppfbtfpnufjgttgrxttasle - fitness: 39\n",
      "enppfbtfpnufjgtterxttasle - fitness: 38\n",
      "bnppfbtfpnufjgtterxttasle - fitness: 37\n",
      "bnppfbtfpnufjgtterxttanle - fitness: 36\n",
      "boppfbtfpnufjgtterxttanle - fitness: 35\n",
      "boppfctfpnufjgtterxttanle - fitness: 34\n",
      "bopqfctfpnufjgtterxttanle - fitness: 33\n",
      "copqfctfpnufjgtterxttanle - fitness: 32\n",
      "copqfctfpnufjgtteryttanle - fitness: 31\n",
      "copqfctfpnufjatteryttanle - fitness: 25\n",
      "copqfctfpnuffatteryttanle - fitness: 21\n",
      "corqfctfpnuffatteryttanle - fitness: 19\n",
      "corqfctfpuuffatteryttanle - fitness: 18\n",
      "corqfctfpuuffatteryttaqle - fitness: 17\n",
      "corqfcthpuuffatteryttaqle - fitness: 15\n",
      "corqfcthpquffatteryttaqle - fitness: 13\n",
      "corqfcthpquffatteryttaple - fitness: 12\n",
      "corqfcthpqufdatteryttaple - fitness: 10\n",
      "corqfcthpquedatteryttaple - fitness: 9\n",
      "corqfcthpqsedatteryttaple - fitness: 7\n",
      "corrfcthpqsedatteryttaple - fitness: 6\n",
      "corrfcthprsedatteryttaple - fitness: 5\n",
      "corrfcthprsedatterystaple - fitness: 4\n",
      "correcthprsedatterystaple - fitness: 3\n",
      "correcthprsebatterystaple - fitness: 1\n",
      "correcthorsebatterystaple - fitness: 0\n"
     ]
    }
   ],
   "source": [
    "# geração da população\n",
    "\n",
    "populacao = cria_populacao_inicial(TAMANHO_POP, NUM_GENES)\n",
    "\n",
    "melhor_fitness_ja_visto = float(\"inf\")  # é assim que escrevemos infinito em python\n",
    "\n",
    "print(\"Progresso da melhor senha já vista:\")\n",
    "\n",
    "while melhor_fitness_ja_visto != 0: # critério de parada\n",
    "    # Seleção\n",
    "    fitness = funcao_objetivo_pop(populacao)\n",
    "    populacao = funcao_selecao(populacao, fitness)\n",
    "    \n",
    "    # Cruzamento\n",
    "    pais = populacao[0::2]\n",
    "    maes = populacao[1::2]\n",
    "    \n",
    "    contador = 0\n",
    "    \n",
    "    for pai, mae in zip(pais, maes):\n",
    "        if rd.random() <= CHANCE_CRUZAMENTO:\n",
    "            filho1, filho2 = funcao_cruzamento(pai, mae)\n",
    "            populacao[contador] = filho1\n",
    "            populacao[contador + 1] = filho2\n",
    "        \n",
    "        contador = contador + 2   \n",
    "        \n",
    "    # Mutação\n",
    "    for n in range(len(populacao)):\n",
    "        if rd.random() <= CHANCE_MUTACAO:\n",
    "            individuo = populacao[n]\n",
    "            populacao[n] = funcao_mutacao(individuo)            \n",
    "            \n",
    "    # melhor individuo já visto até agora\n",
    "    fitness = funcao_objetivo_pop(populacao)\n",
    "    menor_fitness = min(fitness)\n",
    "    if menor_fitness < melhor_fitness_ja_visto:        \n",
    "        posicao = fitness.index(menor_fitness)\n",
    "        melhor_individuo_ja_visto = populacao[posicao]\n",
    "        melhor_fitness_ja_visto = menor_fitness\n",
    "        print(\"\".join(melhor_individuo_ja_visto), \"- fitness:\", melhor_fitness_ja_visto)"
   ]
  },
  {
   "cell_type": "code",
   "execution_count": 13,
   "metadata": {},
   "outputs": [
    {
     "name": "stdout",
     "output_type": "stream",
     "text": [
      "\n",
      "Melhor palpite da senha encontrado:\n",
      "correcthorsebatterystaple\n"
     ]
    }
   ],
   "source": [
    "print()\n",
    "print(\"Melhor palpite da senha encontrado:\")\n",
    "print(\"\".join(melhor_individuo_ja_visto))"
   ]
  },
  {
   "cell_type": "markdown",
   "metadata": {},
   "source": [
    "## Conclusão\n",
    "\n"
   ]
  },
  {
   "cell_type": "markdown",
   "metadata": {},
   "source": [
    "Esse algoritmo de minimização ainda possui uma implementação bastante semelhante ao de maximização, por isso esse experiemento foi mais uma progressão baseada em adaptação do código anterior. Apesar de virtualmente nunca seguir o mesmo caminho, o algoritmo sempre chega ao resultado correto com pouca variação no número de tentativas ou do score inicial. É interessante notar, também, como os scores de fitness vão afunilando conforme as gerações (na maioria das vezes que rodei, os primeiros apresentaram uma diferença entre 10 a 30 pontos, então os dez finalistas sempre são sequenciais."
   ]
  },
  {
   "cell_type": "markdown",
   "metadata": {},
   "source": [
    "## Playground\n",
    "\n"
   ]
  },
  {
   "cell_type": "code",
   "execution_count": null,
   "metadata": {},
   "outputs": [],
   "source": []
  }
 ],
 "metadata": {
  "kernelspec": {
   "display_name": "ilumpy",
   "language": "python",
   "name": "ilumpy"
  },
  "language_info": {
   "codemirror_mode": {
    "name": "ipython",
    "version": 3
   },
   "file_extension": ".py",
   "mimetype": "text/x-python",
   "name": "python",
   "nbconvert_exporter": "python",
   "pygments_lexer": "ipython3",
   "version": "3.9.7"
  },
  "org": null
 },
 "nbformat": 4,
 "nbformat_minor": 4
}
