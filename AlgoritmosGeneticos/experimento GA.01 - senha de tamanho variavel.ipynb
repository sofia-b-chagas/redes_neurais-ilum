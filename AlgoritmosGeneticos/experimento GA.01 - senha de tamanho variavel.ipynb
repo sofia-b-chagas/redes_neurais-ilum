{
 "cells": [
  {
   "cell_type": "markdown",
   "metadata": {},
   "source": [
    "Descobrindo a senha\n",
    "===================\n",
    "\n"
   ]
  },
  {
   "cell_type": "markdown",
   "metadata": {},
   "source": [
    "## Introdução"
   ]
  },
  {
   "cell_type": "markdown",
   "metadata": {},
   "source": [
    "## Objetivo\n",
    "\n"
   ]
  },
  {
   "cell_type": "markdown",
   "metadata": {},
   "source": [
    "Resolver o problema da senha sem fornecer a informação do tamanho da senha para a função que gera a população.\n"
   ]
  },
  {
   "cell_type": "markdown",
   "metadata": {},
   "source": [
    "## Descrição do problema\n",
    "\n"
   ]
  },
  {
   "cell_type": "markdown",
   "metadata": {},
   "source": [
    "Neste problema, a função objetivo deve saber a senha correta e quantificar de alguma maneira o quão perto ou longe os palpites estão da solução (veja que isso é algo que não temos no mundo real. Nenhum site irá te dizer se você está acertando ou errando seu palpite). O critério de parada deste problema é quando a senha e seu respectivo tamanho for descoberta.\n"
   ]
  },
  {
   "cell_type": "markdown",
   "metadata": {},
   "source": [
    "## Importações\n",
    "\n"
   ]
  },
  {
   "cell_type": "code",
   "execution_count": 1,
   "metadata": {},
   "outputs": [],
   "source": [
    "from funcoes import populacao_inicial_senha\n",
    "from funcoes import funcao_objetivo_pop_senha\n",
    "from funcoes import selecao_torneio_min\n",
    "from funcoes import cruzamento_ponto_simples as funcao_cruzamento\n",
    "from funcoes import mutacao_senha\n",
    "import random"
   ]
  },
  {
   "cell_type": "markdown",
   "metadata": {},
   "source": [
    "## Códigos e discussão\n",
    "\n"
   ]
  },
  {
   "cell_type": "code",
   "execution_count": 5,
   "metadata": {},
   "outputs": [],
   "source": [
    "# constantes gerais\n",
    "TAMANHO_POP = 50\n",
    "CHANCE_CRUZAMENTO = 0.5\n",
    "CHANCE_MUTACAO = 0.05\n",
    "NUM_COMBATENTES_NO_TORNEIO = 3\n",
    "\n",
    "# constantes específicas\n",
    "SENHA = \"correcthorsebatterystaple\"\n",
    "LETRAS_POSSIVEIS = \"abcdefghijklmnopqrstuvwxyz\"\n",
    "NUM_GENES = len(SENHA)"
   ]
  },
  {
   "cell_type": "code",
   "execution_count": 9,
   "metadata": {},
   "outputs": [],
   "source": [
    "# funções locais (para não ter que colocar as variaveis locais no script)\n",
    "def cria_populacao_inicial(tamanho, tamanho_senha):\n",
    "    return populacao_inicial_senha(tamanho, tamanho_senha, LETRAS_POSSIVEIS)\n",
    "\n",
    "def funcao_objetivo_pop(populacao):\n",
    "    return funcao_objetivo_pop_senha(populacao, SENHA)\n",
    "\n",
    "def funcao_selecao(populacao, fitness):\n",
    "    return selecao_torneio_min(populacao, fitness, NUM_COMBATENTES_NO_TORNEIO)\n",
    "\n",
    "def funcao_mutacao(individuo):\n",
    "    return mutacao_senha(individuo, LETRAS_POSSIVEIS)"
   ]
  },
  {
   "cell_type": "code",
   "execution_count": 10,
   "metadata": {},
   "outputs": [
    {
     "name": "stdout",
     "output_type": "stream",
     "text": [
      "Progresso da melhor senha já vista:\n",
      "brvricwiappsmavptybilfqbo - fitness: 155\n",
      "brvricwiappsmavptybilfnie - fitness: 139\n",
      "brvricwiqppsmavptybilfnie - fitness: 127\n",
      "brvricwiappfodppxfvwualsm - fitness: 118\n",
      "brvricwiqppsmavptfvwobhje - fitness: 104\n",
      "brvricwiqpgfmavpxfvwobhke - fitness: 103\n",
      "brvricwiqppsmavptfvwoahke - fitness: 102\n",
      "brvricwiqppfmavpxfvwobhke - fitness: 94\n",
      "brvricwiqppfmavrxfvwobhke - fitness: 92\n",
      "bovricwiqppfmavpxfvwobhke - fitness: 91\n",
      "bovricwiqppfmavpxfvwoahke - fitness: 90\n",
      "brqricwiqppfmavpafvwobhke - fitness: 76\n",
      "brqricwiqppfbavpafvwobhke - fitness: 65\n",
      "brqricwiqppfbavpayvwobhke - fitness: 60\n",
      "brqricwiqppfbavsayvwobhke - fitness: 57\n",
      "brqricwiqppfbavpayvwobske - fitness: 55\n",
      "brqricwiqppfbavsayvwobske - fitness: 52\n",
      "bnqricwiqppfbavsayvwobske - fitness: 50\n",
      "bnqricwiqppfbavsgyvwobske - fitness: 48\n",
      "bnqricwiqppfbavsgyvwwbske - fitness: 46\n",
      "bnqricwiqppfbavsgyzwwbske - fitness: 44\n",
      "bnqricwiqprebavsgyvwwbske - fitness: 43\n",
      "bnqricwiqppebavsgvvwwbske - fitness: 42\n",
      "bnqricwiqprebavsgvvwwbske - fitness: 40\n",
      "boqricwiqprebavsgvvwwbske - fitness: 39\n",
      "boqrhcwiqprebavsgvvwwbske - fitness: 38\n",
      "boqrhcwiqprebavsgvvwwboke - fitness: 36\n",
      "boqrhcwiqprebavsgvvpwboke - fitness: 35\n",
      "boqrhcwiqrrebavsgvvpwboke - fitness: 33\n",
      "borrhcwiqrrebavsgvvpwboke - fitness: 32\n",
      "boqrccwimrrebavsgvvpwbole - fitness: 31\n",
      "boqrccwimrrebavsgvzpwbole - fitness: 29\n",
      "boqrccwimrrebavsgvzrwbole - fitness: 27\n",
      "boqrccuimrrebavsgvzrwbole - fitness: 25\n",
      "coqrccuimrrebavsgvzrwbole - fitness: 24\n",
      "coqrecuimrrebavsgvzrwbole - fitness: 22\n",
      "coqrecuimrrebavsgvzswbole - fitness: 21\n",
      "correcuimrrebavsgvzswbole - fitness: 20\n",
      "correcuimrsebavsgvzswbole - fitness: 19\n",
      "correcuimrsebavsgpzswbole - fitness: 17\n",
      "correcuiorsebavsgpzswbole - fitness: 15\n",
      "correcuiorsebavsgpzsvbole - fitness: 14\n",
      "correcuiorsebavsgpzstbole - fitness: 12\n",
      "correcuiorsebavsgpzstaole - fitness: 11\n",
      "correctiorsebavsgpzstaole - fitness: 10\n",
      "correctiorsebavsgrzstaole - fitness: 8\n",
      "correctiorsebassgrzstaole - fitness: 7\n",
      "correcthorsebassgrzstaole - fitness: 6\n",
      "correcthorsebassfrzstaole - fitness: 5\n",
      "correcthorsebatsfrzstaole - fitness: 4\n",
      "correcthorsebatsfrzstaple - fitness: 3\n",
      "correcthorsebattfrzstaple - fitness: 2\n",
      "correcthorsebatterzstaple - fitness: 1\n",
      "correcthorsebatterystaple - fitness: 0\n"
     ]
    }
   ],
   "source": [
    "# geração da população\n",
    "\n",
    "populacao = cria_populacao_inicial(TAMANHO_POP, NUM_GENES)\n",
    "\n",
    "melhor_fitness_ja_visto = float(\"inf\")  # é assim que escrevemos infinito em python\n",
    "\n",
    "print(\"Progresso da melhor senha já vista:\")\n",
    "\n",
    "while melhor_fitness_ja_visto != 0:   \n",
    "    \n",
    "    # Seleção\n",
    "    fitness = funcao_objetivo_pop(populacao)\n",
    "    populacao = funcao_selecao(populacao, fitness)\n",
    "    \n",
    "    # Cruzamento\n",
    "    pais = populacao[0::2]\n",
    "    maes = populacao[1::2]\n",
    "    \n",
    "    contador = 0\n",
    "    \n",
    "    for pai, mae in zip(pais, maes):\n",
    "        if random.random() <= CHANCE_CRUZAMENTO:\n",
    "            filho1, filho2 = funcao_cruzamento(pai, mae)\n",
    "            populacao[contador] = filho1\n",
    "            populacao[contador + 1] = filho2\n",
    "        \n",
    "        contador = contador + 2   \n",
    "        \n",
    "    # Mutação\n",
    "    for n in range(len(populacao)):\n",
    "        if random.random() <= CHANCE_MUTACAO:\n",
    "            individuo = populacao[n]\n",
    "            populacao[n] = funcao_mutacao(individuo)            \n",
    "            \n",
    "    # melhor individuo já visto até agora\n",
    "    fitness = funcao_objetivo_pop(populacao)\n",
    "    menor_fitness = min(fitness)\n",
    "    if menor_fitness < melhor_fitness_ja_visto:        \n",
    "        posicao = fitness.index(menor_fitness)\n",
    "        melhor_individuo_ja_visto = populacao[posicao].copy()\n",
    "        melhor_fitness_ja_visto = menor_fitness\n",
    "        print(\"\".join(melhor_individuo_ja_visto), \"- fitness:\", melhor_fitness_ja_visto)"
   ]
  },
  {
   "cell_type": "code",
   "execution_count": 11,
   "metadata": {},
   "outputs": [
    {
     "name": "stdout",
     "output_type": "stream",
     "text": [
      "\n",
      "Melhor palpite da senha encontrado:\n",
      "correcthorsebatterystaple\n"
     ]
    }
   ],
   "source": [
    "print()\n",
    "print(\"Melhor palpite da senha encontrado:\")\n",
    "print(\"\".join(melhor_individuo_ja_visto))"
   ]
  },
  {
   "cell_type": "markdown",
   "metadata": {},
   "source": [
    "## Conclusão\n",
    "\n"
   ]
  },
  {
   "cell_type": "markdown",
   "metadata": {},
   "source": [
    "## Playground\n",
    "\n"
   ]
  },
  {
   "cell_type": "code",
   "execution_count": null,
   "metadata": {},
   "outputs": [],
   "source": []
  }
 ],
 "metadata": {
  "kernelspec": {
   "display_name": "ilumpy",
   "language": "python",
   "name": "ilumpy"
  },
  "language_info": {
   "codemirror_mode": {
    "name": "ipython",
    "version": 3
   },
   "file_extension": ".py",
   "mimetype": "text/x-python",
   "name": "python",
   "nbconvert_exporter": "python",
   "pygments_lexer": "ipython3",
   "version": "3.9.7"
  },
  "org": null
 },
 "nbformat": 4,
 "nbformat_minor": 4
}
