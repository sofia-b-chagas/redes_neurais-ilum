{
 "cells": [
  {
   "cell_type": "markdown",
   "metadata": {},
   "source": [
    "Descobrindo a senha\n",
    "===================\n",
    "\n"
   ]
  },
  {
   "cell_type": "markdown",
   "metadata": {},
   "source": [
    "## Introdução"
   ]
  },
  {
   "cell_type": "markdown",
   "metadata": {},
   "source": [
    "## Objetivo\n",
    "\n"
   ]
  },
  {
   "cell_type": "markdown",
   "metadata": {},
   "source": [
    "Resolver o problema da senha sem fornecer a informação do tamanho da senha para a função que gera a população.\n"
   ]
  },
  {
   "cell_type": "markdown",
   "metadata": {},
   "source": [
    "## Descrição do problema\n",
    "\n"
   ]
  },
  {
   "cell_type": "markdown",
   "metadata": {},
   "source": [
    "Neste problema, a função objetivo deve saber a senha correta e quantificar de alguma maneira o quão perto ou longe os palpites estão da solução (veja que isso é algo que não temos no mundo real. Nenhum site irá te dizer se você está acertando ou errando seu palpite). O critério de parada deste problema é quando a senha e seu respectivo tamanho for descoberta.\n"
   ]
  },
  {
   "cell_type": "markdown",
   "metadata": {},
   "source": [
    "## Importações\n",
    "\n"
   ]
  },
  {
   "cell_type": "markdown",
   "metadata": {},
   "source": [
    "Gerei um arquivo de funções (**funcoes_GA_01.py**) com as todas as funções necessárias e adequadas para esse experimento. Tentei importar o arquivo inteiro, mas as funções não estavam sendo reconhecidas. Por isso peço licença poética para utilizar o *import all*, considerando que o arquivo inteiro será utilizado para este notebook."
   ]
  },
  {
   "cell_type": "code",
   "execution_count": 1,
   "metadata": {},
   "outputs": [],
   "source": [
    "from funcoes_GA_01 import *"
   ]
  },
  {
   "cell_type": "markdown",
   "metadata": {},
   "source": [
    "## Códigos e discussão\n",
    "\n"
   ]
  },
  {
   "cell_type": "markdown",
   "metadata": {},
   "source": [
    "Ao contrário do experimento-irmão deste, em que também tínhamos que descobrir a senha com tamanho definido (A.05), desta vez não se pode definir uma variável com o tamanho da senha (**NUM_GENES**, cujo valor era **len(SENHA)**). Em seu lugar, atribuí um limite de tamanho a ser explorado pelo algoritmo (**TAMANHO_MAX**).\n",
    "\n",
    "Também foi necessário definir uma constante de penalidade para ser utilizada na função objetivo da população (**funcao_objetivo_pop_sv**) para punir candidatos que assumam tamanhos absolutos distantes do tamanho da senha verdadeira (vide implementação em **funcoes_GA_01**)."
   ]
  },
  {
   "cell_type": "code",
   "execution_count": 15,
   "metadata": {},
   "outputs": [],
   "source": [
    "# constantes gerais\n",
    "TAMANHO_POP = 50\n",
    "CHANCE_CRUZAMENTO = 0.5\n",
    "CHANCE_MUTACAO = 0.05\n",
    "NUM_COMBATENTES_NO_TORNEIO = 3\n",
    "\n",
    "# constantes específicas\n",
    "SENHA = \"41 M3U D3U5 C0M0 3 B0M S3R V1D4 L0K4\"\n",
    "LETRAS = \"abcdefghijkqlmnopqrstuvwxyzABCDEFGHIJKQLMNOPQRSTUVWXYZ0123456789 !@#$%\"\n",
    "TAMANHO_MAX = 100\n",
    "PENALIDADE = 50"
   ]
  },
  {
   "cell_type": "markdown",
   "metadata": {},
   "source": [
    "A geração, seleção, cruzamento e mutação da população são os mesmos da implementação do experimento **A.05**, pois a estrutura do algoritmo genético se mantém. O principal fator de adequação entre os problemas é como as respectivas funções para cada tarefa estão especificamente definidas."
   ]
  },
  {
   "cell_type": "code",
   "execution_count": 19,
   "metadata": {},
   "outputs": [
    {
     "name": "stdout",
     "output_type": "stream",
     "text": [
      "Progresso da melhor senha já vista:\n",
      "lSGboEXsPcQcGCWL98aPs$s9kRo2D@i% - fitness: 1306\n",
      "DQ2nucSB7C!!E@c gPTWamLm$ - fitness: 1220\n",
      "DQ2nucSB7C!!E@cTpr51#ipfBgP9%6i% - fitness: 1069\n",
      "DQ2nucSB7C!!E@cRCG$HL0StKJZlD@i% - fitness: 948\n",
      "@H1 ucSB7C!!E@cRCG$HL0StKJo2D@i%VQ! - fitness: 916\n",
      "!1GbocSB7C!!E@cRCG$HL0StKJo2D@i%VQ! - fitness: 892\n",
      "DQ2nucSB7C!!E@JH4G$HL1StKJo2D@i%VQ! - fitness: 873\n",
      "@H1 IrSB7C!!E@JHCG$HL0StKJo2D@i%VQ! - fitness: 858\n",
      "@H1 IcSB7C!!E@JH4G$HL1StKJo2D@i%VQ! - fitness: 827\n",
      "@H1 IrSB7C!!E@JH4G$HL1StKJo2D@S%VQ! - fitness: 820\n",
      "@H1 IcSB7C!!E@JH4G$HL1StKJo2D@S%VQ! - fitness: 805\n",
      "@H1 IcSB7C!!E@JH4G$HL1StKJd2D@S%VQ! - fitness: 794\n",
      "@H1 IcSB7C!!E@JH4G$HL1StKJdZD@S%VQ! - fitness: 762\n",
      "@F1 IcSB7C!!E@JH4G$HL1StKJdZD@S%VQ! - fitness: 760\n",
      "@H1 IcSB7C!!E@JH4G$HLMStKJdZD@S%VQ! - fitness: 734\n",
      "8H1 IcSB7C!!E@JH4G$HLMStKJdZD@S%VQ! - fitness: 726\n",
      "@H1 IcSB7C!!E@JH4G$HLMSdKJdZD@S%VQ! - fitness: 718\n",
      "8H1 IcSB7C!!E@JH4G$HLMSdKJdZD@S%VQ! - fitness: 710\n",
      "8H1OIcSB7C!!E@JH4G$HLMStKJdZD@S%Vk! - fitness: 709\n",
      "8H1OIcSB7C!!E@JH4G$HLMSdKJdZD@S%VQ! - fitness: 667\n",
      "8H1OIcSB7C!!E@JH4G$HLMSdKJdZD@S%VQ2 - fitness: 650\n",
      "8H1OIcGB7C!!E@JH4G$HLMSdKJdZD@S%VQ2 - fitness: 638\n",
      "8H1O1cGB7C!!E@JH4G$HLMSdKJdZD@S%VQ2 - fitness: 618\n",
      "8H1O1cGB7U!!E@JH4G$HLMSdKJdZD@S%VQ2 - fitness: 600\n",
      "8H1O1cGB7U!!E@JH4G$HLMSdKJdZD@N%VQ2 - fitness: 595\n",
      "811O1cGB7U!!E@JH4G$HLMSdKJdZD@S%VQ2 - fitness: 577\n",
      "811O1cGB7U!!E@JH4G$HLMSdKJdZD@N%VQ2 - fitness: 572\n",
      "811O1cGB7U!!E@JH4G$HLMSdKJdZD@N%GQ2 - fitness: 567\n",
      "811O1cGB7U!!E@JH4G$HLMSdKQdZD@N%GQ2 - fitness: 560\n",
      "811O1cGB7U!!E@JH G$HLMSdKJdZD@N%GQ2 - fitness: 547\n",
      "811O1cGB7U!!E@JH G$HLMSdKJdZ5@N%GQ2 - fitness: 532\n",
      "811O1cGB7U!!E@JH G$HLMSdKJMZD@N%GQ2 - fitness: 524\n",
      "811O1cGB7U!!E@JH G$HLMSdKJMZ5@N%GQ2 - fitness: 509\n",
      "811O1cGB0U!!E@JH G$HLMSdKJMZ5@N%GQ2 - fitness: 508\n",
      "811O1XGB7U!!F@JH G$HLMSdKJMZ5@N%GQ2 - fitness: 499\n",
      "811O1XGB7U!!F@JH G$HLMSdKJMZ5@N%GQ2e - fitness: 498\n",
      "811O1XGB0U!!E@JH G$HLMSdKJMZ5@N%GQ2 - fitness: 497\n",
      "811O1XGB7U!!F@JH G$HLMSdKJMZ5@B%GQ2e - fitness: 486\n",
      "811O1XGB7U!!E@JH G$HLMSdKJMZ5@B%GQ2e - fitness: 485\n",
      "811O1XGB7U!!E@JH G$HLMSdKJMZ5@B%PQ2e - fitness: 484\n",
      "811O1X6B7U!!E@JH G$HLMSdKJMZ5@B%GQ2e - fitness: 468\n",
      "811O1X6B7U!!E@JH G$HLMSdKJMZ5@B%PQ2e - fitness: 467\n",
      "811O1X6B7U!!E@JH G$HLMSdKJMZ5@B%PF2e - fitness: 456\n",
      "811O1X6B7U!!E@JA G$HLMSdKJMZ5@B%PF2e - fitness: 449\n",
      "811O1X6B7U!!E@JH G$HLMSdKJMZ5@B%PFYe - fitness: 445\n",
      "811O1X6B7U!!E@JA G$HLMSdKJMZ5@B%PFYe - fitness: 438\n",
      "81$O1X6B7U!!E@JA G$HLMSdKJMZ5@B%PFYe - fitness: 425\n",
      "81$O1X6B7U!!E@JA G$ALMSdKJMZ5@B%PFYe - fitness: 420\n",
      "61$O1X6B7U!!E@JA G$ALMSdKJMZ5@B%PFYe - fitness: 418\n",
      "61$O1X6B7U!!E@JA 0$ALMSdKJMZ5@B%PFYe - fitness: 401\n",
      "61$O1X6B1U!!E@JA 0$ALMSdKJMZ5@B%PFYe - fitness: 399\n",
      "61$O1X6B1U!!E@JA 0$ALMSdKJMZ5@B!PFYe - fitness: 395\n",
      "61$O1X6B1U0!E@JA 0$ALMSdKJMZ5@B!PFYe - fitness: 380\n",
      "61$O1X6B1U!!E@JA 0$ALM0dKJMZ5@B!PFYe - fitness: 360\n",
      "61$O1X6B1U0!E@JA 0$ALM0dKJMZ5@B!PFYe - fitness: 345\n",
      "61$O1X6B1U0!E@JA 0$ALM0PKJMZ5@B!PFYe - fitness: 331\n",
      "61$O1X6B1U0!E@KA 0$ALM0PKJMZ5@B!PFYe - fitness: 330\n",
      "61$O1X6B1U0!E@KA 0$A6M0PKJMZ5@B!PFYe - fitness: 308\n",
      "61$O1X6B1U0!E@KA 0$ALM0PKJMZ5@B!PFYK - fitness: 304\n",
      "61$O1X6B1U0!E@KA 0$A6M0PKJMZ5@B!PFYK - fitness: 282\n",
      "61$O1X6B1U0!E@KA 0$ALM0P2JMZ5@B!PFYK - fitness: 281\n",
      "61$O1X6B1U0!E@KA 0$A6M0P8JMZ5@B!PFYK - fitness: 263\n",
      "61$O1X6B1U0!E@KA 0$A6M0P2JMZ5@B!PFYK - fitness: 259\n",
      "61$M1X6B1U0!E@KA 5$A6M0P8JMZ5@B!PDYK - fitness: 258\n",
      "61$M1X6B1U0!E@KA 5$A6M0P8JMZ5@B!ODYK - fitness: 257\n",
      "61$M1X6B1U0!E@KA 5$A6M0P8JIZ5@B!ODYK - fitness: 253\n",
      "61$M1X6B1U0!E#KA 5$A6M0P0JMZ5@B!ODYK - fitness: 252\n",
      "61$M1X6B1U0!E#KA 5$A6M0P0JMZ5@B!ODBK - fitness: 247\n",
      "61$M1X6B1U0!E#KA 5#A6M0P0JMZ5@B!ODBK - fitness: 246\n",
      "61$M1X6B1U0!E#KA 5$A6M0P0JMZ5@B!ODB2 - fitness: 226\n",
      "61$M1X6B1U0!E#KA 5#A6M0P0JMZ5@B!ODB2 - fitness: 225\n",
      "61$M1X6B1U0!E#KA 5$A6M0P0JKZ5@B!ODB2 - fitness: 224\n",
      "61$M1X6B1U0!E#KA 5#A6M0P0JKZ5@B!ODB2 - fitness: 223\n",
      "61$M1X6B1U0!E#KA 3#A6M0P0JKZ5@B!ODB2 - fitness: 221\n",
      "61$M1X6B1U0!E#KA 5#A6M0P0JKZ5@6!ODB2 - fitness: 211\n",
      "61$M1X6B1U0!E#KA 3#A6M0P0JKZ5@6!ODB2 - fitness: 209\n",
      "61$M1X6B1U8!E#KA 3#A6M0P0JKZ5@6!ODB2 - fitness: 207\n",
      "61$M1X6B1U8!E#KA 3#A6M0P0JKZ5@6!O1B2 - fitness: 188\n",
      "61$M1X6B1U8!E#KA 3#A6M0P0PKZ5@6!O1B2 - fitness: 182\n",
      "61$M1X6B1U8!E#KA 3#A6M0P0PKZ5@6!O1Q2 - fitness: 179\n",
      "61$M1T6B1U8!E#KA 3#A6M0P0PKZ5@6!O1Q2 - fitness: 177\n",
      "61$M1X%B1U8!E#KA 3#A6M0P0PKZ5@6!O1Q2 - fitness: 162\n",
      "61$M1T%B1U8!E#KA 3#A6M0P0PKZ5@6!O1Q2 - fitness: 160\n",
      "61$M1T B1U8!E#KA 3#A6M0P0PKZ5@6!O1Q2 - fitness: 155\n",
      "61$M1T%B1U8!E#KA 3#A1M0P0PKZ5@6!O1O2 - fitness: 153\n",
      "61$M1T%B1U8!E#K! 3#A1M0P0PKZ5@6!O1O2 - fitness: 151\n",
      "61$M1U%B1U8!E#K! 3#A1M0P0PKZ5@6!O1O2 - fitness: 150\n",
      "61$M1U%B1U8!E#K! 3#A1M0P0P$Z5@6!O1O2 - fitness: 111\n",
      "61$M1U%B2U8!E#K! 3#A1M0P0P$Z5@6!O1O2 - fitness: 110\n",
      "61$M1U%B2U6!E#K! 3#A1M0P0P$Z5@6!O1O2 - fitness: 108\n",
      "61$M1U%B2U6!E#K! 3#A1M0P0P$X5@6!O1O2 - fitness: 106\n",
      "61$M1U%B2U6!E#K! 3#A1M P0P$X5@6!O1O2 - fitness: 90\n",
      "61$M1U%B2U6!E$K! 3#A1M P0P$X5@6!O1O2 - fitness: 89\n",
      "61$M1U%B2U6!E$K! 3#A1M P0P$X1@6!O1O2 - fitness: 85\n",
      "61$M1U%E2U6!E$K! 3#A1M P0P$X1@6!O1O2 - fitness: 84\n",
      "61$M1U%E2U6!E$K! 3#A1M P0P$W1@6!O1O2 - fitness: 83\n",
      "61$M1U%E2U6!E$K! 3#A1M P5P$W1@6!O1O2 - fitness: 82\n",
      "61$M1U%E2U6!E$K! 3#A1M S5P$W1@6!O1O2 - fitness: 79\n",
      "61$M1U%E2U6!E$K# 3#A1M S5P$W1@6!O1O2 - fitness: 77\n",
      "61$M1U%E2U6!E8K# 3#A1M S5P$W1@6!O1O2 - fitness: 73\n",
      "61$M1U%E2U5!E8K# 3#A1M S5P$W1@6!O1O2 - fitness: 72\n",
      "61$M1U%E2U6!E8K# 3#A1M S2Q$W1@6!O1O2 - fitness: 71\n",
      "61$M1U%E2U6!E8K1 3#A1M S2Q$W1@6!O1O2 - fitness: 59\n",
      "61$M1U$E2U6!E8K1 3#A1M S2Q$W1@6!O1O2 - fitness: 58\n",
      "61$M1U$E2U5!E8K1 3#A1M S2Q$W1@6!O1O2 - fitness: 57\n",
      "61$M1U E2U5!E8K1 3#A1M S2Q$W1@6!O1O2 - fitness: 53\n",
      "61$M1U$E2U5!E3K1 3#A1M S2Q$W1@6!O1O2 - fitness: 52\n",
      "61$M1U$E2U5!E3K1 3#A1M S2Q$W1@6!J1O2 - fitness: 51\n",
      "61$M1U E2U5!E3K1 3#A1M S2Q$W1@6!O1O2 - fitness: 48\n",
      "61$M1U E2U5!E3K1 3#A1M S2Q$W1@6!J1O2 - fitness: 47\n",
      "61$M1U E2U5!E3K1 3#A1M S2Q$W1@6!J1O5 - fitness: 46\n",
      "61$M1U E2U5!D3K1 3#A1M S2Q$W1@6!J1O5 - fitness: 45\n",
      "61$M1U E2U5!D3K1 3#A1M S2Q$W1@6!J1L5 - fitness: 42\n",
      "61$M1U E2U5!D3K1 3 A1M S2Q$W1@6!J1L5 - fitness: 39\n",
      "61$M1U E2U5!D3K1 3 A1M S2Q$W1G6!J1L5 - fitness: 38\n",
      "61$M1U E2U5!D3K1 3 A1M S3Q$W1G6!J1L5 - fitness: 37\n",
      "61$M1U E2U5!D3M1 3 A1M S3Q$W1G6!J1L5 - fitness: 35\n",
      "61$M1U E2U5!D3M1 3 A1M S3Q$W1G6!M1L5 - fitness: 34\n",
      "61$M1U E2U5!D3M1 3 A1M S3Q#W1G6!M1L5 - fitness: 33\n",
      "31$M1U E2U5!D3M1 3 A1M S3Q#W1G6!M1L5 - fitness: 32\n",
      "31$M1U E2U5!D3M0 3 A1M S3Q#W1G6!M1L5 - fitness: 31\n",
      "31$M1U E2U5!D3M0 3 A0M S3Q#W1G6!M1L5 - fitness: 30\n",
      "31$M1U E2U5!D3M0 3 A0M S3Q#V1G6!M1L5 - fitness: 29\n",
      "31$M1U E2U5!D3M0 3 B0M S3Q#V1G6!M1L5 - fitness: 28\n",
      "31$M1U E2U5!C3M0 3 B0M S3Q#V1G6!M1L5 - fitness: 27\n",
      "31#M1U E2U5!C3M0 3 B0M S3Q#V1G6!M1L5 - fitness: 26\n",
      "31#M1U E2U5!C3M0 3 B0M S3Q#V1C6!M1L5 - fitness: 24\n",
      "31#M1U E2U5!C3M0 3 B0M S3R#V1C6!M1L5 - fitness: 23\n",
      "31#M3U E2U5!C3M0 3 B0M S3R#V1C6!M1L5 - fitness: 21\n",
      "31#M3U E2U5!C1M0 3 B0M S3R#V1C6!M1L5 - fitness: 19\n",
      "31#M3U E2U5!C1M0 3 B0M S3R#V1C6 M1L5 - fitness: 18\n",
      "31#M3U E2U5!C1M0 3 B0M S3R V1C6 M1L5 - fitness: 15\n",
      "31#M3U D2U5!C0M0 3 B0M S3R#V1C6 M0L4 - fitness: 14\n",
      "31#M3U D2U5!C0M0 3 B0M S3R#V1C4 M1L4 - fitness: 13\n",
      "31#M3U D2U5!C0M0 3 B0M S3R#V1C4 M0L4 - fitness: 12\n",
      "31#M3U D2U5!C0M0 3 B0M S3R!V1C4 M0L4 - fitness: 10\n",
      "31#M3U D2U5 C0M0 3 B0M S3R!V1C4 M0L4 - fitness: 9\n",
      "31#M3U D2U5 C0M0 3 B0M S3R!V1C4 L0L4 - fitness: 8\n",
      "31#M3U D2U5 C0M0 3 B0M S3R!V1D4 L0L4 - fitness: 7\n",
      "31#M3U D2U5 C0M0 3 B0M S3R V1D4 L0L4 - fitness: 6\n",
      "41#M3U D2U5 C0M0 3 B0M S3R V1D4 L0L4 - fitness: 5\n",
      "41#M3U D3U5 C0M0 3 B0M S3R V1D4 L0L4 - fitness: 4\n",
      "41!M3U D3U5 C0M0 3 B0M S3R V1D4 L0L4 - fitness: 2\n",
      "41 M3U D3U5 C0M0 3 B0M S3R V1D4 L0L4 - fitness: 1\n",
      "41 M3U D3U5 C0M0 3 B0M S3R V1D4 L0K4 - fitness: 0\n"
     ]
    }
   ],
   "source": [
    "# geração da população\n",
    "\n",
    "populacao = populacao_inicial_sv(TAMANHO_POP, LETRAS)\n",
    "\n",
    "melhor_fitness_ja_visto = float(\"inf\")  # é assim que escrevemos infinito em python\n",
    "\n",
    "print(\"Progresso da melhor senha já vista:\")\n",
    "\n",
    "while melhor_fitness_ja_visto != 0:   \n",
    "    \n",
    "    # Seleção\n",
    "    fitness = funcao_objetivo_pop_sv(populacao, SENHA, PENALIDADE)\n",
    "    populacao = selecao_torneio_senha_sv(populacao, fitness, NUM_COMBATENTES_NO_TORNEIO)\n",
    "    \n",
    "    # Cruzamento\n",
    "    pais = populacao[0::2]\n",
    "    maes = populacao[1::2]\n",
    "    \n",
    "    contador = 0\n",
    "    \n",
    "    for pai, mae in zip(pais, maes):\n",
    "        if random.random() <= CHANCE_CRUZAMENTO:\n",
    "            filho1, filho2 = cruzamento_ponto_simples_sv(pai, mae)\n",
    "            populacao[contador] = filho1\n",
    "            populacao[contador + 1] = filho2\n",
    "        \n",
    "        contador = contador + 2   \n",
    "        \n",
    "    # Mutação\n",
    "    for n in range(len(populacao)):\n",
    "        if random.random() <= CHANCE_MUTACAO:\n",
    "            individuo = populacao[n]\n",
    "            populacao[n] = mutacao_sv(individuo, LETRAS, TAMANHO_MAX)            \n",
    "            \n",
    "    # melhor individuo já visto até agora\n",
    "    fitness = funcao_objetivo_pop_sv(populacao, SENHA, PENALIDADE)\n",
    "    menor_fitness = min(fitness)\n",
    "    if menor_fitness < melhor_fitness_ja_visto:        \n",
    "        posicao = fitness.index(menor_fitness)\n",
    "        melhor_individuo_ja_visto = populacao[posicao].copy()\n",
    "        melhor_fitness_ja_visto = menor_fitness\n",
    "        print(\"\".join(melhor_individuo_ja_visto), \"- fitness:\", melhor_fitness_ja_visto)\n"
   ]
  },
  {
   "cell_type": "code",
   "execution_count": 20,
   "metadata": {},
   "outputs": [
    {
     "name": "stdout",
     "output_type": "stream",
     "text": [
      "\n",
      "Melhor palpite da senha encontrado:\n",
      "41 M3U D3U5 C0M0 3 B0M S3R V1D4 L0K4\n"
     ]
    }
   ],
   "source": [
    "print()\n",
    "print(\"Melhor palpite da senha encontrado:\")\n",
    "print(\"\".join(melhor_individuo_ja_visto))"
   ]
  },
  {
   "cell_type": "markdown",
   "metadata": {},
   "source": [
    "## Conclusão"
   ]
  },
  {
   "cell_type": "markdown",
   "metadata": {},
   "source": [
    "A resolução deste problema foi interessante. Realizei as duas mutações necessárias - a de letra e de tamanho - em uma função de mutação unificada, que aleatoriamente realiza a mutação no gene ou no tamanho em cada candidato.\n",
    "\n",
    "A estratégia utilizada foi mutar as letras ou símbolos por meio do método randint, cujo escopo de genes é o tamanho do indivíduo. A mutação do tamanho gera aleatoriamente um novo tamanho considerando o limite definido, com dois métodos de correção: corte ou adição. Assim, em várias vezes que rodei o progresso da senha, pude observar o tamanho crescer e diminuir conforme o afunilamento do fitness. Acho pertinente notar que o tamanho se estabilizou primeiro em todas as vezes que rodei, pois isso que permite a convergência dos dígitos corretos. Por sua vez, o tamanho teve a tendência de se estabilizar por volta da metade do processo.\n",
    "\n",
    "Em comparação com o experimento A.05, se mantém o fato de que o progresso nunca segue o mesmo caminho, obviamente. Também é quase regra que os finalistas se mantém sequenciais para as constantes definidas aqui (chance de mutação, número de combatentes no sorteio, etc.). Portanto, avalio que esse algoritmo como um primo próximo do referido A.05, cuja performance/eficiência é a mesma, mas com um pouquinho mais de esforço pessoal rolando no _backstage_, cujo único vislumbre dos expectadores quanto a isso é a feiura das tentativas iniciais."
   ]
  },
  {
   "cell_type": "markdown",
   "metadata": {},
   "source": [
    "## Playground\n",
    "\n"
   ]
  },
  {
   "cell_type": "code",
   "execution_count": null,
   "metadata": {},
   "outputs": [],
   "source": []
  }
 ],
 "metadata": {
  "kernelspec": {
   "display_name": "ilumpy",
   "language": "python",
   "name": "ilumpy"
  },
  "language_info": {
   "codemirror_mode": {
    "name": "ipython",
    "version": 3
   },
   "file_extension": ".py",
   "mimetype": "text/x-python",
   "name": "python",
   "nbconvert_exporter": "python",
   "pygments_lexer": "ipython3",
   "version": "3.9.7"
  },
  "org": null
 },
 "nbformat": 4,
 "nbformat_minor": 4
}
