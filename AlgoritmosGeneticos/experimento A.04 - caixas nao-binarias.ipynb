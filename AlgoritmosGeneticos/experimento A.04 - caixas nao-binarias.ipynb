{
 "cells": [
  {
   "cell_type": "markdown",
   "metadata": {},
   "source": [
    "Problema das caixas não-binárias\n",
    "================================\n",
    "\n"
   ]
  },
  {
   "cell_type": "markdown",
   "metadata": {},
   "source": [
    "## Objetivo\n",
    "\n"
   ]
  },
  {
   "cell_type": "markdown",
   "metadata": {},
   "source": [
    "Encontrar uma solução para o problema das caixas não-binárias usando um algoritmo genético. Considere 4 caixas. Considere que cada caixa pode ter um valor inteiro dentro do conjunto [0, 100].\n",
    "\n"
   ]
  },
  {
   "cell_type": "markdown",
   "metadata": {},
   "source": [
    "## Descrição do problema\n",
    "\n"
   ]
  },
  {
   "cell_type": "markdown",
   "metadata": {},
   "source": [
    "O problema das caixas não-binárias é simples: nós temos um certo número de caixas e cada uma pode conter um número inteiro. O objetivo é encontrar uma combinação de caixas onde a soma dos valores contidos dentro delas é máximo.\n",
    "\n"
   ]
  },
  {
   "cell_type": "markdown",
   "metadata": {},
   "source": [
    "## Importações\n",
    "\n"
   ]
  },
  {
   "cell_type": "code",
   "execution_count": 1,
   "metadata": {},
   "outputs": [],
   "source": [
    "from funcoes import populacao_cnb\n",
    "from funcoes import funcao_objetivo_pop_cnb as funcao_objetivo_pop\n",
    "from funcoes import selecao_roleta_max as funcao_selecao\n",
    "from funcoes import cruzamento_ponto_simples as funcao_cruzamento\n",
    "from funcoes import mutacao_cnb\n",
    "import random"
   ]
  },
  {
   "cell_type": "markdown",
   "metadata": {},
   "source": [
    "## Códigos e discussão\n",
    "\n"
   ]
  },
  {
   "cell_type": "markdown",
   "metadata": {},
   "source": [
    "Vou reutilizar as funções definidas para os experimentos anteriores para gerar um indívuo, atribuir genes binário a eles e calcular a função objetivo:\n",
    "> <b>gene_cb</b>, <b>indv</b>, <b>funcao_objetivo</b>\n",
    "\n",
    "Porém agora, com o desafio adicional da seleção, cruzamento e mutação, foi preciso desenvolver funções correspondentes para essas tarefas e armazená-las na biblioteca <b>funcoes.py</b>. São elas:\n",
    "> <b>funcao_objetivo_pop</b>(<b>f_ob</b>), <b>n_populacao </b>(<b>num_pop</b>), <b>selecao_max </b>(<b>selecao</b>), <b>cruzamento</b> e <b>mutacao</b>\n",
    "\n",
    "Assim, entre o geração e a seleção temos:"
   ]
  },
  {
   "cell_type": "code",
   "execution_count": 2,
   "metadata": {},
   "outputs": [],
   "source": [
    "# constantes gerais\n",
    "TAMANHO_POPULACAO = 20\n",
    "NUM_GERACOES = 3\n",
    "CHANCE_CRUZAMENTO = 0.5\n",
    "CHANCE_MUTACAO = 0.01"
   ]
  },
  {
   "cell_type": "code",
   "execution_count": 3,
   "metadata": {},
   "outputs": [],
   "source": [
    "# constantes específicas\n",
    "VALOR_MAX_CAIXA = 100\n",
    "NUM_GENES = 4"
   ]
  },
  {
   "cell_type": "code",
   "execution_count": 4,
   "metadata": {},
   "outputs": [],
   "source": [
    "# funções específicas\n",
    "def cria_populacao_inicial(tamanho, n_genes):\n",
    "    return populacao_cnb(tamanho, n_genes, VALOR_MAX_CAIXA)\n",
    "\n",
    "def funcao_mutacao(individuo):\n",
    "    return mutacao_cnb(individuo, VALOR_MAX_CAIXA)"
   ]
  },
  {
   "cell_type": "markdown",
   "metadata": {},
   "source": [
    "Agora, a geração da população:"
   ]
  },
  {
   "cell_type": "code",
   "execution_count": 7,
   "metadata": {},
   "outputs": [
    {
     "name": "stdout",
     "output_type": "stream",
     "text": [
      "População inicial:\n",
      "[[53, 66, 70, 70], [21, 73, 61, 11], [7, 54, 52, 90], [97, 60, 48, 1], [72, 33, 85, 99], [90, 92, 59, 37], [68, 64, 64, 71], [13, 36, 13, 93], [64, 49, 13, 8], [1, 39, 17, 29], [29, 79, 66, 86], [76, 56, 45, 36], [6, 72, 56, 46], [100, 94, 25, 75], [62, 11, 37, 21], [24, 39, 98, 80], [27, 77, 82, 99], [18, 54, 87, 100], [9, 40, 67, 48], [40, 69, 9, 93]]\n",
      "\n",
      "[[18, 54, 48, 1], [97, 60, 87, 100], [18, 94, 25, 75], [100, 54, 87, 100], [13, 36, 64, 71], [68, 64, 13, 93], [7, 54, 70, 70], [53, 66, 52, 90], [53, 66, 70, 46], [6, 72, 56, 70], [72, 33, 85, 99], [72, 33, 85, 99], [97, 60, 48, 70], [53, 66, 70, 1], [76, 56, 45, 36], [40, 69, 9, 93], [40, 69, 9, 93], [6, 72, 56, 46], [24, 39, 98, 71], [68, 64, 64, 80]]\n",
      "\n",
      "[[18, 54, 26, 1], [72, 33, 85, 99], [100, 54, 87, 100], [100, 54, 87, 100], [76, 56, 45, 36], [18, 54, 26, 1], [72, 33, 85, 99], [53, 66, 70, 1], [6, 72, 56, 46], [40, 69, 9, 93], [24, 39, 98, 71], [40, 69, 9, 93], [72, 33, 85, 75], [18, 94, 25, 99], [7, 54, 70, 70], [53, 66, 70, 1], [53, 66, 52, 46], [6, 72, 56, 90], [68, 64, 13, 93], [53, 66, 70, 46]]\n",
      "\n",
      "[[53, 66, 70, 1], [100, 54, 87, 100], [100, 54, 87, 100], [100, 54, 87, 100], [53, 66, 56, 46], [6, 72, 70, 1], [18, 54, 26, 46], [53, 66, 70, 1], [7, 54, 70, 1], [53, 66, 70, 70], [53, 66, 52, 46], [72, 33, 85, 75], [6, 72, 56, 46], [7, 54, 70, 70], [100, 54, 87, 100], [76, 56, 45, 36], [24, 39, 98, 71], [72, 33, 85, 99], [76, 64, 13, 93], [68, 56, 45, 36]]\n"
     ]
    }
   ],
   "source": [
    "populacao = cria_populacao_inicial(TAMANHO_POPULACAO, NUM_GENES)\n",
    "\n",
    "print(\"População inicial:\")\n",
    "print(populacao)\n",
    "                                   \n",
    "for n in range(NUM_GERACOES):    \n",
    "    \n",
    "    # Seleção\n",
    "    fitness = funcao_objetivo_pop(populacao)\n",
    "    populacao = funcao_selecao(populacao, fitness)\n",
    "    \n",
    "    # Cruzamento\n",
    "    pais = populacao[0::2]\n",
    "    maes = populacao[1::2]\n",
    "    \n",
    "    contador = 0\n",
    "    \n",
    "    for pai, mae in zip(pais, maes):\n",
    "        if random.random() <= CHANCE_CRUZAMENTO:\n",
    "            filho1, filho2 = funcao_cruzamento(pai, mae)\n",
    "            populacao[contador] = filho1\n",
    "            populacao[contador + 1] = filho2\n",
    "        \n",
    "        contador = contador + 2   \n",
    "            \n",
    "    print()\n",
    "    print(populacao)\n",
    "    \n",
    "    # Mutação\n",
    "    for n in range(len(populacao)):\n",
    "        if random.random() <= CHANCE_MUTACAO:\n",
    "            individuo = populacao[n]\n",
    "            populacao[n] = funcao_mutacao(individuo)"
   ]
  },
  {
   "cell_type": "code",
   "execution_count": 9,
   "metadata": {},
   "outputs": [
    {
     "name": "stdout",
     "output_type": "stream",
     "text": [
      "População final: [[53, 66, 70, 1], [100, 54, 87, 100], [100, 54, 87, 100], [100, 54, 87, 100], [53, 66, 56, 46], [6, 72, 70, 1], [18, 54, 26, 46], [53, 66, 70, 1], [7, 54, 70, 1], [53, 66, 70, 70], [53, 66, 52, 46], [72, 33, 85, 75], [6, 72, 56, 46], [7, 54, 70, 70], [100, 54, 87, 100], [76, 56, 45, 36], [24, 39, 98, 71], [72, 33, 85, 99], [76, 64, 13, 93], [68, 56, 45, 36]]\n"
     ]
    }
   ],
   "source": [
    "print(f\"População final: {populacao}\")"
   ]
  },
  {
   "cell_type": "code",
   "execution_count": 10,
   "metadata": {},
   "outputs": [
    {
     "name": "stdout",
     "output_type": "stream",
     "text": [
      "\n",
      "População final:\n",
      "[[53, 66, 70, 1], [100, 54, 87, 100], [100, 54, 87, 100], [100, 54, 87, 100], [53, 66, 56, 46], [6, 72, 70, 1], [18, 54, 26, 46], [53, 66, 70, 1], [7, 54, 70, 1], [53, 66, 70, 70], [53, 66, 52, 46], [72, 33, 85, 75], [6, 72, 56, 46], [7, 54, 70, 70], [100, 54, 87, 100], [76, 56, 45, 36], [24, 39, 98, 71], [72, 33, 85, 99], [76, 64, 13, 93], [68, 56, 45, 36]]\n"
     ]
    }
   ],
   "source": [
    "    # Mutação\n",
    "    for n in range(len(populacao)):\n",
    "        if random.random() <= CHANCE_MUTACAO:\n",
    "            individuo = populacao[n]\n",
    "            populacao[n] = funcao_mutacao(individuo)            \n",
    "\n",
    "print()\n",
    "print(\"População final:\")\n",
    "print(populacao)"
   ]
  },
  {
   "cell_type": "markdown",
   "metadata": {},
   "source": [
    "## Conclusão\n",
    "\n"
   ]
  },
  {
   "cell_type": "markdown",
   "metadata": {},
   "source": [
    "A resolução do problema de caixas não binárias utilizando algoritmos genéticos é parecida com a do experimento de caixas binárias (A.03), exceto pela adaptação de algumas funções para a possibilidade maior de valores de genes para este caso. Também é um problema de maximização, em que buscamos os indivíduos com os maiores fit dentro da população. O que é notável é como pudemos escalar um problema com tantas simplicidade, pois já existe uma diferença significativa de aplicabilidade e adequação entre uma resolução binária e não binária."
   ]
  },
  {
   "cell_type": "markdown",
   "metadata": {},
   "source": [
    "## Playground\n",
    "\n"
   ]
  },
  {
   "cell_type": "code",
   "execution_count": null,
   "metadata": {},
   "outputs": [],
   "source": []
  }
 ],
 "metadata": {
  "kernelspec": {
   "display_name": "ilumpy",
   "language": "python",
   "name": "ilumpy"
  },
  "language_info": {
   "codemirror_mode": {
    "name": "ipython",
    "version": 3
   },
   "file_extension": ".py",
   "mimetype": "text/x-python",
   "name": "python",
   "nbconvert_exporter": "python",
   "pygments_lexer": "ipython3",
   "version": "3.9.7"
  },
  "org": null
 },
 "nbformat": 4,
 "nbformat_minor": 4
}
